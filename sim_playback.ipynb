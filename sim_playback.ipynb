{
 "cells": [
  {
   "cell_type": "code",
   "execution_count": 1,
   "metadata": {
    "collapsed": false
   },
   "outputs": [
    {
     "data": {
      "text/html": [
       "<script charset=\"utf-8\">(function ($, undefined) {\n",
       "\n",
       "    function createElem(tag, attr, content) {\n",
       "\t// TODO: remove jQuery dependency\n",
       "\tvar el = $(\"<\" + tag + \"/>\").attr(attr);\n",
       "\tif (content) {\n",
       "\t    el.append(content);\n",
       "\t}\n",
       "\treturn el[0];\n",
       "    }\n",
       "\n",
       "    // A widget must expose an id field which identifies it to the backend,\n",
       "    // an elem attribute which is will be added to the DOM, and\n",
       "    // a getState() method which returns the value to be sent to the backend\n",
       "    // a sendUpdate() method which sends its current value to the backend\n",
       "    var Widget = {\n",
       "\tid: undefined,\n",
       "\telem: undefined,\n",
       "\tlabel: undefined,\n",
       "\tgetState: function () {\n",
       "\t    return this.elem.value;\n",
       "\t},\n",
       "\tsendUpdate: undefined\n",
       "    };\n",
       "\n",
       "    var Slider = function (typ, id, init) {\n",
       "\tvar attr = { type:  \"range\",\n",
       "\t\t     value: init.value,\n",
       "\t\t     min:   init.min,\n",
       "\t\t     max:   init.max,\n",
       "\t\t     step:  init.step },\n",
       "\t    elem = createElem(\"input\", attr),\n",
       "\t    self = this;\n",
       "\n",
       "\telem.onchange = function () {\n",
       "\t    self.sendUpdate();\n",
       "\t}\n",
       "\n",
       "\tthis.id = id;\n",
       "\tthis.elem = elem;\n",
       "\tthis.label = init.label;\n",
       "\n",
       "\tInputWidgets.commInitializer(this); // Initialize communication\n",
       "    }\n",
       "    Slider.prototype = Widget;\n",
       "\n",
       "    var Checkbox = function (typ, id, init) {\n",
       "\tvar attr = { type: \"checkbox\",\n",
       "\t\t     checked: init.value },\n",
       "\t    elem = createElem(\"input\", attr),\n",
       "\t    self = this;\n",
       "\n",
       "\tthis.getState = function () {\n",
       "\t    return elem.checked;\n",
       "\t}\n",
       "\telem.onchange = function () {\n",
       "\t    self.sendUpdate();\n",
       "\t}\n",
       "\n",
       "\tthis.id = id;\n",
       "\tthis.elem = elem;\n",
       "\tthis.label = init.label;\n",
       "\n",
       "\tInputWidgets.commInitializer(this);\n",
       "    }\n",
       "    Checkbox.prototype = Widget;\n",
       "\n",
       "    var Button = function (typ, id, init) {\n",
       "\tvar attr = { type:    \"button\",\n",
       "\t\t     value:   init.label },\n",
       "\t    elem = createElem(\"input\", attr),\n",
       "\t    self = this;\n",
       "\tthis.getState = function () {\n",
       "\t    return null;\n",
       "\t}\n",
       "\telem.onclick = function () {\n",
       "\t    self.sendUpdate();\n",
       "\t}\n",
       "\n",
       "\tthis.id = id;\n",
       "\tthis.elem = elem;\n",
       "\tthis.label = init.label;\n",
       "\n",
       "\tInputWidgets.commInitializer(this);\n",
       "    }\n",
       "    Button.prototype = Widget;\n",
       "\n",
       "    var Text = function (typ, id, init) {\n",
       "\tvar attr = { type:  \"text\",\n",
       "\t\t     placeholder: init.label,\n",
       "\t\t     value: init.value },\n",
       "\t    elem = createElem(\"input\", attr),\n",
       "\t    self = this;\n",
       "\tthis.getState = function () {\n",
       "\t    return elem.value;\n",
       "\t}\n",
       "\telem.onkeyup = function () {\n",
       "\t    self.sendUpdate();\n",
       "\t}\n",
       "\n",
       "\tthis.id = id;\n",
       "\tthis.elem = elem;\n",
       "\tthis.label = init.label;\n",
       "\n",
       "\tInputWidgets.commInitializer(this);\n",
       "    }\n",
       "    Text.prototype = Widget;\n",
       "\n",
       "    var Textarea = function (typ, id, init) {\n",
       "\tvar attr = { placeholder: init.label },\n",
       "\t    elem = createElem(\"textarea\", attr, init.value),\n",
       "\t    self = this;\n",
       "\tthis.getState = function () {\n",
       "\t    return elem.value;\n",
       "\t}\n",
       "\telem.onchange = function () {\n",
       "\t    self.sendUpdate();\n",
       "\t}\n",
       "\n",
       "\tthis.id = id;\n",
       "\tthis.elem = elem;\n",
       "\tthis.label = init.label;\n",
       "\n",
       "\tInputWidgets.commInitializer(this);\n",
       "    }\n",
       "    Textarea.prototype = Widget;\n",
       "\n",
       "    // RadioButtons\n",
       "    // Dropdown\n",
       "    // HTML\n",
       "    // Latex\n",
       "\n",
       "    var InputWidgets = {\n",
       "\tSlider: Slider,\n",
       "\tCheckbox: Checkbox,\n",
       "\tButton: Button,\n",
       "\tText: Text,\n",
       "\tTextarea: Textarea,\n",
       "\tdebug: false,\n",
       "\tlog: function () {\n",
       "\t    if (InputWidgets.debug) {\n",
       "\t\tconsole.log.apply(console, arguments);\n",
       "\t    }\n",
       "\t},\n",
       "\t// a central way to initalize communication\n",
       "\t// for widgets.\n",
       "\tcommInitializer: function (widget) {\n",
       "\t    widget.sendUpdate = function () {};\n",
       "\t}\n",
       "    };\n",
       "\n",
       "    window.InputWidgets = InputWidgets;\n",
       "\n",
       "})(jQuery, undefined);\n",
       "</script>"
      ]
     },
     "metadata": {},
     "output_type": "display_data"
    },
    {
     "data": {
      "text/html": [
       "<div id=\"interact-js-shim\">\n",
       "    <script charset=\"utf-8\">\n",
       "(function (IPython, $, _, MathJax, Widgets) {\n",
       "    $.event.special.destroyed = {\n",
       "\tremove: function(o) {\n",
       "\t    if (o.handler) {\n",
       "\t\to.handler.apply(this, arguments)\n",
       "\t    }\n",
       "\t}\n",
       "    }\n",
       "\n",
       "    var OutputArea = IPython.version >= \"4.0.0\" ? require(\"notebook/js/outputarea\").OutputArea : IPython.OutputArea;\n",
       "\n",
       "    var redrawValue = function (container, type, val) {\n",
       "\tvar selector = $(\"<div/>\");\n",
       "\tvar oa = new OutputArea(_.extend(selector, {\n",
       "\t    selector: selector,\n",
       "\t    prompt_area: true,\n",
       "\t    events: IPython.events,\n",
       "\t    keyboard_manager: IPython.keyboard_manager\n",
       "\t})); // Hack to work with IPython 2.1.0\n",
       "\n",
       "\tswitch (type) {\n",
       "\tcase \"image/png\":\n",
       "            var _src = 'data:' + type + ';base64,' + val;\n",
       "\t    $(container).find(\"img\").attr('src', _src);\n",
       "\t    break;\n",
       "\tdefault:\n",
       "\t    var toinsert = OutputArea.append_map[type].apply(\n",
       "\t\toa, [val, {}, selector]\n",
       "\t    );\n",
       "\t    $(container).empty().append(toinsert.contents());\n",
       "\t    selector.remove();\n",
       "\t}\n",
       "\tif (type === \"text/latex\" && MathJax) {\n",
       "\t    MathJax.Hub.Queue([\"Typeset\", MathJax.Hub, toinsert.get(0)]);\n",
       "\t}\n",
       "    }\n",
       "\n",
       "\n",
       "    $(document).ready(function() {\n",
       "\tWidgets.debug = false; // log messages etc in console.\n",
       "\tfunction initComm(evt, data) {\n",
       "\t    var comm_manager = data.kernel.comm_manager;\n",
       "        //_.extend(comm_manager.targets, require(\"widgets/js/widget\"))\n",
       "\t    comm_manager.register_target(\"Signal\", function (comm) {\n",
       "            comm.on_msg(function (msg) {\n",
       "                //Widgets.log(\"message received\", msg);\n",
       "                var val = msg.content.data.value;\n",
       "                $(\".signal-\" + comm.comm_id).each(function() {\n",
       "                var type = $(this).data(\"type\");\n",
       "                if (val[type]) {\n",
       "                    redrawValue(this, type, val[type], type);\n",
       "                }\n",
       "                });\n",
       "                delete val;\n",
       "                delete msg.content.data.value;\n",
       "            });\n",
       "\t    });\n",
       "\n",
       "\t    // coordingate with Comm and redraw Signals\n",
       "\t    // XXX: Test using Reactive here to improve performance\n",
       "\t    $([IPython.events]).on(\n",
       "\t\t'output_appended.OutputArea', function (event, type, value, md, toinsert) {\n",
       "\t\t    if (md && md.reactive) {\n",
       "                // console.log(md.comm_id);\n",
       "                toinsert.addClass(\"signal-\" + md.comm_id);\n",
       "                toinsert.data(\"type\", type);\n",
       "                // Signal back indicating the mimetype required\n",
       "                var comm_manager = IPython.notebook.kernel.comm_manager;\n",
       "                var comm = comm_manager.comms[md.comm_id];\n",
       "                comm.then(function (c) {\n",
       "                    c.send({action: \"subscribe_mime\",\n",
       "                       mime: type});\n",
       "                    toinsert.bind(\"destroyed\", function() {\n",
       "                        c.send({action: \"unsubscribe_mime\",\n",
       "                               mime: type});\n",
       "                    });\n",
       "                })\n",
       "\t\t    }\n",
       "\t    });\n",
       "\t}\n",
       "\n",
       "\ttry {\n",
       "\t    // try to initialize right away. otherwise, wait on the status_started event.\n",
       "\t    initComm(undefined, IPython.notebook);\n",
       "\t} catch (e) {\n",
       "\t    $([IPython.events]).on('kernel_created.Kernel kernel_created.Session', initComm);\n",
       "\t}\n",
       "    });\n",
       "})(IPython, jQuery, _, MathJax, InputWidgets);\n",
       "</script>\n",
       "    <script>\n",
       "        window.interactLoadedFlag = true\n",
       "       $(\"#interact-js-shim\").bind(\"destroyed\", function () {\n",
       "           if (window.interactLoadedFlag) {\n",
       "               console.warn(\"JavaScript required by Interact will be removed if you remove this cell or run using Interact more than once.\")\n",
       "           }\n",
       "       })\n",
       "       $([IPython.events]).on(\"kernel_starting.Kernel kernel_restarting.Kernel\", function () { window.interactLoadedFlag = false })\n",
       "   </script>\n",
       "</div>"
      ]
     },
     "metadata": {},
     "output_type": "display_data"
    }
   ],
   "source": [
    "using MultiPoly\n",
    "using Interact\n",
    "using ProfileView"
   ]
  },
  {
   "cell_type": "code",
   "execution_count": 2,
   "metadata": {
    "collapsed": false
   },
   "outputs": [
    {
     "name": "stderr",
     "output_type": "stream",
     "text": [
      "INFO: Recompiling stale cache file /home/rdeits/.julia/lib/v0.4/GeometryTypes.ji for module GeometryTypes.\n"
     ]
    }
   ],
   "source": [
    "reload(\"GeometryTypes\")"
   ]
  },
  {
   "cell_type": "code",
   "execution_count": 3,
   "metadata": {
    "collapsed": false
   },
   "outputs": [
    {
     "name": "stderr",
     "output_type": "stream",
     "text": [
      "INFO: Recompiling stale cache file /home/rdeits/.julia/lib/v0.4/SpatialFields.ji for module SpatialFields.\n",
      "INFO: Recompiling stale cache file /home/rdeits/.julia/lib/v0.4/SoftRobots.ji for module SoftRobots.\n",
      "INFO: Recompiling stale cache file /home/rdeits/.julia/lib/v0.4/Meshing.ji for module Meshing.\n",
      "WARNING: replacing module SoftRobots\n"
     ]
    }
   ],
   "source": [
    "import SoftRobots\n",
    "reload(\"SoftRobots\")"
   ]
  },
  {
   "cell_type": "code",
   "execution_count": 4,
   "metadata": {
    "collapsed": false,
    "scrolled": true
   },
   "outputs": [
    {
     "name": "stdout",
     "output_type": "stream",
     "text": [
      "v = (FixedSizeArrays.Point{3,Float64}((0.0,0.05,1.2)),FixedSizeArrays.Point{3,Float64}((0.05,0.0,1.2)),FixedSizeArrays.Point{3,Float64}((0.0,0.0,1.2)))\n",
      "n = FixedSizeArrays.Point{3,Float64}((0.0,0.0,-0.0025000000000000005))\n",
      "face = GeometryTypes.Face{3,Int64,0}((3,2,1))\n",
      "v = (FixedSizeArrays.Point{3,Float64}((0.02,0.02,1.25)),FixedSizeArrays.Point{3,Float64}((0.05,0.0,1.2)),FixedSizeArrays.Point{3,Float64}((0.0,0.0,1.2)))\n",
      "n = FixedSizeArrays.Point{3,Float64}((0.0,0.0025000000000000022,-0.001))\n",
      "face = GeometryTypes.Face{3,Int64,0}((4,2,1))\n",
      "v = (FixedSizeArrays.Point{3,Float64}((0.02,0.02,1.25)),FixedSizeArrays.Point{3,Float64}((0.0,0.05,1.2)),FixedSizeArrays.Point{3,Float64}((0.0,0.0,1.2)))\n",
      "n = FixedSizeArrays.Point{3,Float64}((-0.0025000000000000022,0.0,0.001))\n",
      "face = GeometryTypes.Face{3,Int64,0}((4,3,1))\n",
      "v = (FixedSizeArrays.Point{3,Float64}((0.02,0.02,1.25)),FixedSizeArrays.Point{3,Float64}((0.0,0.05,1.2)),FixedSizeArrays.Point{3,Float64}((0.05,0.0,1.2)))\n",
      "n = FixedSizeArrays.Point{3,Float64}((-0.0025000000000000022,-0.0025000000000000022,-0.0005000000000000002))\n",
      "face = GeometryTypes.Face{3,Int64,0}((4,3,2))\n",
      "normals_result = 4-elementArray{FixedSizeArrays.Point{3,Float64},1}:\n",
      " Point(-0.0025000000000000022,0.0025000000000000022,-0.0025000000000000005)\n",
      " Point(-0.0025000000000000022,0.0,-0.004000000000000001)\n",
      " Point(-0.0050000000000000044,-0.0025000000000000022,-0.002000000000000001)\n",
      " Point(-0.0050000000000000044,0.0,-0.0005000000000000002)\n",
      "\n",
      "normals_result = 4-elementArray{FixedSizeArrays.Point{3,Float64},1}:\n",
      " Point(-0.577350269189626,0.577350269189626,-0.5773502691896255)\n",
      " Point(-0.5299989400031803,0.0,-0.8479983040050878)\n",
      " Point(-0.842151921066519,-0.4210759605332595,-0.33686076842660745)\n",
      " Point(-0.9950371902099892,0.0,-0.09950371902099887)\n",
      "\n",
      "v = (FixedSizeArrays.Point{3,Float64}((0.0,0.05,1.2)),FixedSizeArrays.Point{3,Float64}((0.05,0.0,1.2)),FixedSizeArrays.Point{3,Float64}((0.0,0.0,1.2)))\n",
      "n = FixedSizeArrays.Point{3,Float64}((0.0,0.0,-0.0025000000000000005))\n",
      "face = GeometryTypes.Face{3,Int64,0}((3,2,1))\n",
      "v = (FixedSizeArrays.Point{3,Float64}((0.02,0.02,1.25)),FixedSizeArrays.Point{3,Float64}((0.05,0.0,1.2)),FixedSizeArrays.Point{3,Float64}((0.0,0.0,1.2)))\n",
      "n = FixedSizeArrays.Point{3,Float64}((0.0,0.0025000000000000022,-0.001))\n",
      "face = GeometryTypes.Face{3,Int64,0}((4,2,1))\n",
      "v = (FixedSizeArrays.Point{3,Float64}((0.02,0.02,1.25)),FixedSizeArrays.Point{3,Float64}((0.0,0.05,1.2)),FixedSizeArrays.Point{3,Float64}((0.0,0.0,1.2)))\n",
      "n = FixedSizeArrays.Point{3,Float64}((-0.0025000000000000022,0.0,0.001))\n",
      "face = GeometryTypes.Face{3,Int64,0}((4,3,1))\n",
      "v = (FixedSizeArrays.Point{3,Float64}((0.02,0.02,1.25)),FixedSizeArrays.Point{3,Float64}((0.0,0.05,1.2)),FixedSizeArrays.Point{3,Float64}((0.05,0.0,1.2)))\n",
      "n = FixedSizeArrays.Point{3,Float64}((-0.0025000000000000022,-0.0025000000000000022,-0.0005000000000000002))\n",
      "face = GeometryTypes.Face{3,Int64,0}((4,3,2))\n",
      "normals_result = 4-elementArray{FixedSizeArrays.Point{3,Float64},1}:\n",
      " Point(-0.0025000000000000022,0.0025000000000000022,-0.0025000000000000005)\n",
      " Point(-0.0025000000000000022,0.0,-0.004000000000000001)\n",
      " Point(-0.0050000000000000044,-0.0025000000000000022,-0.002000000000000001)\n",
      " Point(-0.0050000000000000044,0.0,-0.0005000000000000002)\n",
      "\n",
      "normals_result = 4-elementArray{FixedSizeArrays.Point{3,Float64},1}:\n",
      " Point(-0.577350269189626,0.577350269189626,-0.5773502691896255)\n",
      " Point(-0.5299989400031803,0.0,-0.8479983040050878)\n",
      " Point(-0.842151921066519,-0.4210759605332595,-0.33686076842660745)\n",
      " Point(-0.9950371902099892,0.0,-0.09950371902099887)\n",
      "\n",
      "v = (FixedSizeArrays.Point{3,Float64}((0.0,0.05,1.2)),FixedSizeArrays.Point{3,Float64}((0.05,0.0,1.2)),FixedSizeArrays.Point{3,Float64}((0.0,0.0,1.2)))\n",
      "n = FixedSizeArrays.Point{3,Float64}((0.0,0.0,-0.0025000000000000005))\n",
      "face = GeometryTypes.Face{3,Int64,0}((3,2,1))\n",
      "v = (FixedSizeArrays.Point{3,Float64}((0.02,0.02,1.25)),FixedSizeArrays.Point{3,Float64}((0.05,0.0,1.2)),FixedSizeArrays.Point{3,Float64}((0.0,0.0,1.2)))\n",
      "n = FixedSizeArrays.Point{3,Float64}((0.0,0.0025000000000000022,-0.001))\n",
      "face = GeometryTypes.Face{3,Int64,0}((4,2,1))\n",
      "v = (FixedSizeArrays.Point{3,Float64}((0.02,0.02,1.25)),FixedSizeArrays.Point{3,Float64}((0.0,0.05,1.2)),FixedSizeArrays.Point{3,Float64}((0.0,0.0,1.2)))\n",
      "n = FixedSizeArrays.Point{3,Float64}((-0.0025000000000000022,0.0,0.001))\n",
      "face = GeometryTypes.Face{3,Int64,0}((4,3,1))\n",
      "v = (FixedSizeArrays.Point{3,Float64}((0.02,0.02,1.25)),FixedSizeArrays.Point{3,Float64}((0.0,0.05,1.2)),FixedSizeArrays.Point{3,Float64}((0.05,0.0,1.2)))\n",
      "n = FixedSizeArrays.Point{3,Float64}((-0.0025000000000000022,-0.0025000000000000022,-0.0005000000000000002))\n",
      "face = GeometryTypes.Face{3,Int64,0}((4,3,2))\n",
      "normals_result = 4-elementArray{FixedSizeArrays.Point{3,Float64},1}:\n",
      " Point(-0.0025000000000000022,0.0025000000000000022,-0.0025000000000000005)\n",
      " Point(-0.0025000000000000022,0.0,-0.004000000000000001)\n",
      " Point(-0.0050000000000000044,-0.0025000000000000022,-0.002000000000000001)\n",
      " Point(-0.0050000000000000044,0.0,-0.0005000000000000002)\n",
      "\n",
      "normals_result = 4-elementArray{FixedSizeArrays.Point{3,Float64},1}:\n",
      " Point(-0.577350269189626,0.577350269189626,-0.5773502691896255)\n",
      " Point(-0.5299989400031803,0.0,-0.8479983040050878)\n",
      " Point(-0.842151921066519,-0.4210759605332595,-0.33686076842660745)\n",
      " Point(-0.9950371902099892,0.0,-0.09950371902099887)\n",
      "\n",
      "v = (FixedSizeArrays.Point{3,Float64}((0.0007369007531038554,0.049187542089157675,1.2003679757886923)),FixedSizeArrays.Point{3,Float64}((0.049187542089157675,0.0007369007531038554,1.2003679757886923)),FixedSizeArrays.Point{3,Float64}((0.00010368937617720907,0.00010368937617720907,1.200249413440443)))\n",
      "n = FixedSizeArrays.Point{3,Float64}((5.744421810990172e-6,5.744421810990172e-6,-0.002408823640501691))\n",
      "face = GeometryTypes.Face{3,Int64,0}((3,2,1))\n",
      "v = (FixedSizeArrays.Point{3,Float64}((0.019971867781561268,0.019971867781561268,1.2489753949821722)),FixedSizeArrays.Point{3,Float64}((0.049187542089157675,0.0007369007531038554,1.2003679757886923)),FixedSizeArrays.Point{3,Float64}((0.00010368937617720907,0.00010368937617720907,1.200249413440443)))\n",
      "n = FixedSizeArrays.Point{3,Float64}((-2.8498227976961267e-5,0.0023893032834024688,-0.0009626259859199927))\n",
      "face = GeometryTypes.Face{3,Int64,0}((4,2,1))\n",
      "v = (FixedSizeArrays.Point{3,Float64}((0.019971867781561268,0.019971867781561268,1.2489753949821722)),FixedSizeArrays.Point{3,Float64}((0.0007369007531038554,0.049187542089157675,1.2003679757886923)),FixedSizeArrays.Point{3,Float64}((0.00010368937617720907,0.00010368937617720907,1.200249413440443)))\n",
      "n = FixedSizeArrays.Point{3,Float64}((-0.0023893032834024688,2.8498227976961267e-5,0.0009626259859199927))\n",
      "face = GeometryTypes.Face{3,Int64,0}((4,3,1))\n",
      "v = (FixedSizeArrays.Point{3,Float64}((0.019971867781561268,0.019971867781561268,1.2489753949821722)),FixedSizeArrays.Point{3,Float64}((0.0007369007531038554,0.049187542089157675,1.2003679757886923)),FixedSizeArrays.Point{3,Float64}((0.049187542089157675,0.0007369007531038554,1.2003679757886923)))\n",
      "n = FixedSizeArrays.Point{3,Float64}((-0.0023550606336145176,-0.0023550606336145176,-0.000483571668661705))\n",
      "face = GeometryTypes.Face{3,Int64,0}((4,3,2))\n",
      "normals_result = 4-elementArray{FixedSizeArrays.Point{3,Float64},1}:\n",
      " Point(-0.00241205708956844,0.00242354593319042,-0.002408823640501691)\n",
      " Point(-0.0023778144397804887,3.9987071598941194e-5,-0.0038550212950833884)\n",
      " Point(-0.004738619495205996,-0.002320817983826566,-0.001929769323243403)\n",
      " Point(-0.0047728621449939475,6.274087776491234e-5,-0.000483571668661705)\n",
      "\n",
      "normals_result = 4-elementArray{FixedSizeArrays.Point{3,Float64},1}:\n",
      " Point(-0.5766903755561218,0.5794372033869053,-0.5759173014175745)\n",
      " Point(-0.5249564268891558,0.008828052297587556,-0.8510833186947102)\n",
      " Point(-0.8434335317978916,-0.4130856488349058,-0.34348234913249864)\n",
      " Point(-0.9948215455557736,0.013077263723839464,-0.10079225005683291)\n",
      "\n",
      "v = (FixedSizeArrays.Point{3,Float64}((0.0007369007531038554,0.049187542089157675,1.2003679757886923)),FixedSizeArrays.Point{3,Float64}((0.049187542089157675,0.0007369007531038554,1.2003679757886923)),FixedSizeArrays.Point{3,Float64}((0.00010368937617720907,0.00010368937617720907,1.200249413440443)))\n",
      "n = FixedSizeArrays.Point{3,Float64}((5.744421810990172e-6,5.744421810990172e-6,-0.002408823640501691))\n",
      "face = GeometryTypes.Face{3,Int64,0}((3,2,1))\n",
      "v = (FixedSizeArrays.Point{3,Float64}((0.019971867781561268,0.019971867781561268,1.2489753949821722)),FixedSizeArrays.Point{3,Float64}((0.049187542089157675,0.0007369007531038554,1.2003679757886923)),FixedSizeArrays.Point{3,Float64}((0.00010368937617720907,0.00010368937617720907,1.200249413440443)))\n",
      "n = FixedSizeArrays.Point{3,Float64}((-2.8498227976961267e-5,0.0023893032834024688,-0.0009626259859199927))\n",
      "face = GeometryTypes.Face{3,Int64,0}((4,2,1))\n",
      "v = (FixedSizeArrays.Point{3,Float64}((0.019971867781561268,0.019971867781561268,1.2489753949821722)),FixedSizeArrays.Point{3,Float64}((0.0007369007531038554,0.049187542089157675,1.2003679757886923)),FixedSizeArrays.Point{3,Float64}((0.00010368937617720907,0.00010368937617720907,1.200249413440443)))\n",
      "n = FixedSizeArrays.Point{3,Float64}((-0.0023893032834024688,2.8498227976961267e-5,0.0009626259859199927))\n",
      "face = GeometryTypes.Face{3,Int64,0}((4,3,1))\n",
      "v = (FixedSizeArrays.Point{3,Float64}((0.019971867781561268,0.019971867781561268,1.2489753949821722)),FixedSizeArrays.Point{3,Float64}((0.0007369007531038554,0.049187542089157675,1.2003679757886923)),FixedSizeArrays.Point{3,Float64}((0.049187542089157675,0.0007369007531038554,1.2003679757886923)))\n",
      "n = FixedSizeArrays.Point{3,Float64}((-0.0023550606336145176,-0.0023550606336145176,-0.000483571668661705))\n",
      "face = GeometryTypes.Face{3,Int64,0}((4,3,2))\n",
      "normals_result = 4-elementArray{FixedSizeArrays.Point{3,Float64},1}:\n",
      " Point(-0.00241205708956844,0.00242354593319042,-0.002408823640501691)\n",
      " Point(-0.0023778144397804887,3.9987071598941194e-5,-0.0038550212950833884)\n",
      " Point(-0.004738619495205996,-0.002320817983826566,-0.001929769323243403)\n",
      " Point(-0.0047728621449939475,6.274087776491234e-5,-0.000483571668661705)\n",
      "\n",
      "normals_result = 4-elementArray{FixedSizeArrays.Point{3,Float64},1}:\n",
      " Point(-0.5766903755561218,0.5794372033869053,-0.5759173014175745)\n",
      " Point(-0.5249564268891558,0.008828052297587556,-0.8510833186947102)\n",
      " Point(-0.8434335317978916,-0.4130856488349058,-0.34348234913249864)\n",
      " Point(-0.9948215455557736,0.013077263723839464,-0.10079225005683291)\n",
      "\n",
      "v = (FixedSizeArrays.Point{3,Float64}((0.0021258943400107783,0.047695496864626055,1.2010468434342196)),FixedSizeArrays.Point{3,Float64}((0.047695496864626055,0.0021258943400107783,1.2010468434342196)),FixedSizeArrays.Point{3,Float64}((0.00025770131906340866,0.00025770131906340866,1.2007064380263603)))\n",
      "n = FixedSizeArrays.Point{3,Float64}((1.5512139133377393e-5,1.5512139133377393e-5,-0.002246854301059087))\n",
      "face = GeometryTypes.Face{3,Int64,0}((3,2,1))\n",
      "v = (FixedSizeArrays.Point{3,Float64}((0.019920907476299765,0.019920907476299765,1.2470821551052)),FixedSizeArrays.Point{3,Float64}((0.047695496864626055,0.0021258943400107783,1.2010468434342196)),FixedSizeArrays.Point{3,Float64}((0.00025770131906340866,0.00025770131906340866,1.2007064380263603)))\n",
      "n = FixedSizeArrays.Point{3,Float64}((-7.994532927634273e-5,0.00219326832335308,-0.0008960444889448283))\n",
      "face = GeometryTypes.Face{3,Int64,0}((4,2,1))\n",
      "v = (FixedSizeArrays.Point{3,Float64}((0.019920907476299765,0.019920907476299765,1.2470821551052)),FixedSizeArrays.Point{3,Float64}((0.0021258943400107783,0.047695496864626055,1.2010468434342196)),FixedSizeArrays.Point{3,Float64}((0.00025770131906340866,0.00025770131906340866,1.2007064380263603)))\n",
      "n = FixedSizeArrays.Point{3,Float64}((-0.00219326832335308,7.994532927634273e-5,0.0008960444889448283))\n",
      "face = GeometryTypes.Face{3,Int64,0}((4,3,1))\n",
      "v = (FixedSizeArrays.Point{3,Float64}((0.019920907476299765,0.019920907476299765,1.2470821551052)),FixedSizeArrays.Point{3,Float64}((0.0021258943400107783,0.047695496864626055,1.2010468434342196)),FixedSizeArrays.Point{3,Float64}((0.047695496864626055,0.0021258943400107783,1.2010468434342196)))\n",
      "n = FixedSizeArrays.Point{3,Float64}((-0.0020978108549433595,-0.0020978108549433595,-0.00045476532316942984))\n",
      "face = GeometryTypes.Face{3,Int64,0}((4,3,2))\n",
      "normals_result = 4-elementArray{FixedSizeArrays.Point{3,Float64},1}:\n",
      " Point(-0.002257701513496045,0.0022887257917628,-0.002246854301059087)\n",
      " Point(-0.0021622440450863247,0.00011096960754309769,-0.0035976641131733452)\n",
      " Point(-0.004275567039163063,-0.0020023533865336394,-0.0018055751352836884)\n",
      " Point(-0.004371024507572782,0.00017540279768606332,-0.00045476532316942984)\n",
      "\n",
      "normals_result = 4-elementArray{FixedSizeArrays.Point{3,Float64},1}:\n",
      " Point(-0.5756177819204342,0.5835276522619475,-0.5728522044844192)\n",
      " Point(-0.5149543041055558,0.026428227266520738,-0.8568101385293664)\n",
      " Point(-0.8458596684188875,-0.39613692314419247,-0.35720716603134084)\n",
      " Point(-0.9938399858096086,0.039881339869238926,-0.103400006461273)\n",
      "\n",
      "v = (FixedSizeArrays.Point{3,Float64}((0.0,0.05,1.2)),FixedSizeArrays.Point{3,Float64}((0.05,0.0,1.2)),FixedSizeArrays.Point{3,Float64}((0.0,0.0,1.2)))"
     ]
    }
   ],
   "source": [
    "world = SoftRobots.World3D()\n",
    "world_state = Dict{SoftRobots.Object, SoftRobots.ObjectState}()\n",
    "\n",
    "robots = []\n",
    "for j = 1:1\n",
    "#     robot, robot_state = SoftRobots.blob(num_nodes=50, k=100)\n",
    "    robot, robot_state = SoftRobots.tetrahedron()\n",
    "    push!(robots, robot)\n",
    "    for i = 1:length(robot_state.positions)\n",
    "        robot_state.positions[i] += SoftRobots.Point(0., 0, 1.*j)\n",
    "    end\n",
    "    push!(world.objects, robot)\n",
    "    world_state[robot] = robot_state\n",
    "end\n",
    "\n",
    "x, y, z = generators(MPoly{Float64}, :x, :y, :z)\n",
    "terrain = SoftRobots.FixedObject()\n",
    "terrain_state = SoftRobots.FixedObjectState(0 + (0.0x^2  + 0.0y^2 + 1z))\n",
    "push!(world.objects, terrain)\n",
    "world_state[terrain] = terrain_state\n",
    "\n",
    "gl = [SoftRobots.LCMGLClient(\"robot$(i)\") for i in 1:length(robots)]\n",
    "history = SoftRobots.simulate(world, world_state, 0:0.001:0.003, \n",
    "draw_callback=(world, world_state) -> map(i -> SoftRobots.draw(gl[i], robots[i], world_state[robots[i]]), 1:length(robots)))\n",
    "Profile.clear()\n",
    "@time @profile history = SoftRobots.simulate(world, world_state, 0:0.001:0.003, \n",
    "draw_callback=(world, world_state) -> map(i -> SoftRobots.draw(gl[i], robots[i], world_state[robots[i]]), 1:length(robots)))\n",
    "# ProfileView.view()\n",
    "nothing\n"
   ]
  },
  {
   "cell_type": "code",
   "execution_count": 5,
   "metadata": {
    "collapsed": false
   },
   "outputs": [
    {
     "data": {
      "text/html": [],
      "text/plain": [
       "Interact.Slider{Int64}(Signal{Int64}(2, nactions=0),\"i\",2,1:3,true)"
      ]
     },
     "metadata": {},
     "output_type": "display_data"
    },
    {
     "name": "stdout",
     "output_type": "stream",
     "text": [
      "\n",
      "n = FixedSizeArrays.Point{3,Float64}((0.0,0.0,-0.0025000000000000005))\n",
      "face = GeometryTypes.Face{3,Int64,0}((3,2,1))\n",
      "v = (FixedSizeArrays.Point{3,Float64}((0.02,0.02,1.25)),FixedSizeArrays.Point{3,Float64}((0.05,0.0,1.2)),FixedSizeArrays.Point{3,Float64}((0.0,0.0,1.2)))\n",
      "n = FixedSizeArrays.Point{3,Float64}((0.0,0.0025000000000000022,-0.001))\n",
      "face = GeometryTypes.Face{3,Int64,0}((4,2,1))\n",
      "v = (FixedSizeArrays.Point{3,Float64}((0.02,0.02,1.25)),FixedSizeArrays.Point{3,Float64}((0.0,0.05,1.2)),FixedSizeArrays.Point{3,Float64}((0.0,0.0,1.2)))\n",
      "n = FixedSizeArrays.Point{3,Float64}((-0.0025000000000000022,0.0,0.001))\n",
      "face = GeometryTypes.Face{3,Int64,0}((4,3,1))\n",
      "v = (FixedSizeArrays.Point{3,Float64}((0.02,0.02,1.25)),FixedSizeArrays.Point{3,Float64}((0.0,0.05,1.2)),FixedSizeArrays.Point{3,Float64}((0.05,0.0,1.2)))\n",
      "n = FixedSizeArrays.Point{3,Float64}((-0.0025000000000000022,-0.0025000000000000022,-0.0005000000000000002))\n",
      "face = GeometryTypes.Face{3,Int64,0}((4,3,2))\n",
      "normals_result = 4-elementArray{FixedSizeArrays.Point{3,Float64},1}:\n",
      " Point(-0.0025000000000000022,0.0025000000000000022,-0.0025000000000000005)\n",
      " Point(-0.0025000000000000022,0.0,-0.004000000000000001)\n",
      " Point(-0.0050000000000000044,-0.0025000000000000022,-0.002000000000000001)\n",
      " Point(-0.0050000000000000044,0.0,-0.0005000000000000002)\n",
      "\n",
      "normals_result = 4-elementArray{FixedSizeArrays.Point{3,Float64},1}:\n",
      " Point(-0.577350269189626,0.577350269189626,-0.5773502691896255)\n",
      " Point(-0.5299989400031803,0.0,-0.8479983040050878)\n",
      " Point(-0.842151921066519,-0.4210759605332595,-0.33686076842660745)\n",
      " Point(-0.9950371902099892,0.0,-0.09950371902099887)\n",
      "\n",
      "v = (FixedSizeArrays.Point{3,Float64}((0.0,0.05,1.2)),FixedSizeArrays.Point{3,Float64}((0.05,0.0,1.2)),FixedSizeArrays.Point{3,Float64}((0.0,0.0,1.2)))\n",
      "n = FixedSizeArrays.Point{3,Float64}((0.0,0.0,-0.0025000000000000005))\n",
      "face = GeometryTypes.Face{3,Int64,0}((3,2,1))\n",
      "v = (FixedSizeArrays.Point{3,Float64}((0.02,0.02,1.25)),FixedSizeArrays.Point{3,Float64}((0.05,0.0,1.2)),FixedSizeArrays.Point{3,Float64}((0.0,0.0,1.2)))\n",
      "n = FixedSizeArrays.Point{3,Float64}((0.0,0.0025000000000000022,-0.001))\n",
      "face = GeometryTypes.Face{3,Int64,0}((4,2,1))\n",
      "v = (FixedSizeArrays.Point{3,Float64}((0.02,0.02,1.25)),FixedSizeArrays.Point{3,Float64}((0.0,0.05,1.2)),FixedSizeArrays.Point{3,Float64}((0.0,0.0,1.2)))\n",
      "n = FixedSizeArrays.Point{3,Float64}((-0.0025000000000000022,0.0,0.001))\n",
      "face = GeometryTypes.Face{3,Int64,0}((4,3,1))\n",
      "v = (FixedSizeArrays.Point{3,Float64}((0.02,0.02,1.25)),FixedSizeArrays.Point{3,Float64}((0.0,0.05,1.2)),FixedSizeArrays.Point{3,Float64}((0.05,0.0,1.2)))\n",
      "n = FixedSizeArrays.Point{3,Float64}((-0.0025000000000000022,-0.0025000000000000022,-0.0005000000000000002))\n",
      "face = GeometryTypes.Face{3,Int64,0}((4,3,2))\n",
      "normals_result = 4-elementArray{FixedSizeArrays.Point{3,Float64},1}:\n",
      " Point(-0.0025000000000000022,0.0025000000000000022,-0.0025000000000000005)\n",
      " Point(-0.0025000000000000022,0.0,-0.004000000000000001)\n",
      " Point(-0.0050000000000000044,-0.0025000000000000022,-0.002000000000000001)\n",
      " Point(-0.0050000000000000044,0.0,-0.0005000000000000002)\n",
      "\n",
      "normals_result = 4-elementArray{FixedSizeArrays.Point{3,Float64},1}:\n",
      " Point(-0.577350269189626,0.577350269189626,-0.5773502691896255)\n",
      " Point(-0.5299989400031803,0.0,-0.8479983040050878)\n",
      " Point(-0.842151921066519,-0.4210759605332595,-0.33686076842660745)\n",
      " Point(-0.9950371902099892,0.0,-0.09950371902099887)\n",
      "\n",
      "v = (FixedSizeArrays.Point{3,Float64}((0.0,0.05,1.2)),FixedSizeArrays.Point{3,Float64}((0.05,0.0,1.2)),FixedSizeArrays.Point{3,Float64}((0.0,0.0,1.2)))\n",
      "n = FixedSizeArrays.Point{3,Float64}((0.0,0.0,-0.0025000000000000005))\n",
      "face = GeometryTypes.Face{3,Int64,0}((3,2,1))\n",
      "v = (FixedSizeArrays.Point{3,Float64}((0.02,0.02,1.25)),FixedSizeArrays.Point{3,Float64}((0.05,0.0,1.2)),FixedSizeArrays.Point{3,Float64}((0.0,0.0,1.2)))\n",
      "n = FixedSizeArrays.Point{3,Float64}((0.0,0.0025000000000000022,-0.001))\n",
      "face = GeometryTypes.Face{3,Int64,0}((4,2,1))\n",
      "v = (FixedSizeArrays.Point{3,Float64}((0.02,0.02,1.25)),FixedSizeArrays.Point{3,Float64}((0.0,0.05,1.2)),FixedSizeArrays.Point{3,Float64}((0.0,0.0,1.2)))\n",
      "n = FixedSizeArrays.Point{3,Float64}((-0.0025000000000000022,0.0,0.001))\n",
      "face = GeometryTypes.Face{3,Int64,0}((4,3,1))\n",
      "v = (FixedSizeArrays.Point{3,Float64}((0.02,0.02,1.25)),FixedSizeArrays.Point{3,Float64}((0.0,0.05,1.2)),FixedSizeArrays.Point{3,Float64}((0.05,0.0,1.2)))\n",
      "n = FixedSizeArrays.Point{3,Float64}((-0.0025000000000000022,-0.0025000000000000022,-0.0005000000000000002))\n",
      "face = GeometryTypes.Face{3,Int64,0}((4,3,2))\n",
      "normals_result = 4-elementArray{FixedSizeArrays.Point{3,Float64},1}:\n",
      " Point(-0.0025000000000000022,0.0025000000000000022,-0.0025000000000000005)\n",
      " Point(-0.0025000000000000022,0.0,-0.004000000000000001)\n",
      " Point(-0.0050000000000000044,-0.0025000000000000022,-0.002000000000000001)\n",
      " Point(-0.0050000000000000044,0.0,-0.0005000000000000002)\n",
      "\n",
      "normals_result = 4-elementArray{FixedSizeArrays.Point{3,Float64},1}:\n",
      " Point(-0.577350269189626,0.577350269189626,-0.5773502691896255)\n",
      " Point(-0.5299989400031803,0.0,-0.8479983040050878)\n",
      " Point(-0.842151921066519,-0.4210759605332595,-0.33686076842660745)\n",
      " Point(-0.9950371902099892,0.0,-0.09950371902099887)\n",
      "\n",
      "v = (FixedSizeArrays.Point{3,Float64}((0.0007369007531038554,0.049187542089157675,1.2003679757886923)),FixedSizeArrays.Point{3,Float64}((0.049187542089157675,0.0007369007531038554,1.2003679757886923)),FixedSizeArrays.Point{3,Float64}((0.00010368937617720907,0.00010368937617720907,1.200249413440443)))\n",
      "n = FixedSizeArrays.Point{3,Float64}((5.744421810990172e-6,5.744421810990172e-6,-0.002408823640501691))\n",
      "face = GeometryTypes.Face{3,Int64,0}((3,2,1))\n",
      "v = (FixedSizeArrays.Point{3,Float64}((0.019971867781561268,0.019971867781561268,1.2489753949821722)),FixedSizeArrays.Point{3,Float64}((0.049187542089157675,0.0007369007531038554,1.2003679757886923)),FixedSizeArrays.Point{3,Float64}((0.00010368937617720907,0.00010368937617720907,1.200249413440443)))\n",
      "n = FixedSizeArrays.Point{3,Float64}((-2.8498227976961267e-5,0.0023893032834024688,-0.0009626259859199927))\n",
      "face = GeometryTypes.Face{3,Int64,0}((4,2,1))\n",
      "v = (FixedSizeArrays.Point{3,Float64}((0.019971867781561268,0.019971867781561268,1.2489753949821722)),FixedSizeArrays.Point{3,Float64}((0.0007369007531038554,0.049187542089157675,1.2003679757886923)),FixedSizeArrays.Point{3,Float64}((0.00010368937617720907,0.00010368937617720907,1.200249413440443)))\n",
      "n = FixedSizeArrays.Point{3,Float64}((-0.0023893032834024688,2.8498227976961267e-5,0.0009626259859199927))\n",
      "face = GeometryTypes.Face{3,Int64,0}((4,3,1))\n",
      "v = (FixedSizeArrays.Point{3,Float64}((0.019971867781561268,0.019971867781561268,1.2489753949821722)),FixedSizeArrays.Point{3,Float64}((0.0007369007531038554,0.049187542089157675,1.2003679757886923)),FixedSizeArrays.Point{3,Float64}((0.049187542089157675,0.0007369007531038554,1.2003679757886923)))\n",
      "n = FixedSizeArrays.Point{3,Float64}((-0.0023550606336145176,-0.0023550606336145176,-0.000483571668661705))\n",
      "face = GeometryTypes.Face{3,Int64,0}((4,3,2))\n",
      "normals_result = 4-elementArray{FixedSizeArrays.Point{3,Float64},1}:\n",
      " Point(-0.00241205708956844,0.00242354593319042,-0.002408823640501691)\n",
      " Point(-0.0023778144397804887,3.9987071598941194e-5,-0.0038550212950833884)\n",
      " Point(-0.004738619495205996,-0.002320817983826566,-0.001929769323243403)\n",
      " Point(-0.0047728621449939475,6.274087776491234e-5,-0.000483571668661705)\n",
      "\n",
      "normals_result = 4-elementArray{FixedSizeArrays.Point{3,Float64},1}:\n",
      " Point(-0.5766903755561218,0.5794372033869053,-0.5759173014175745)\n",
      " Point(-0.5249564268891558,0.008828052297587556,-0.8510833186947102)\n",
      " Point(-0.8434335317978916,-0.4130856488349058,-0.34348234913249864)\n",
      " Point(-0.9948215455557736,0.013077263723839464,-0.10079225005683291)\n",
      "\n",
      "v = (FixedSizeArrays.Point{3,Float64}((0.0007369007531038554,0.049187542089157675,1.2003679757886923)),FixedSizeArrays.Point{3,Float64}((0.049187542089157675,0.0007369007531038554,1.2003679757886923)),FixedSizeArrays.Point{3,Float64}((0.00010368937617720907,0.00010368937617720907,1.200249413440443)))\n",
      "n = FixedSizeArrays.Point{3,Float64}((5.744421810990172e-6,5.744421810990172e-6,-0.002408823640501691))\n",
      "face = GeometryTypes.Face{3,Int64,0}((3,2,1))\n",
      "v = (FixedSizeArrays.Point{3,Float64}((0.019971867781561268,0.019971867781561268,1.2489753949821722)),FixedSizeArrays.Point{3,Float64}((0.049187542089157675,0.0007369007531038554,1.2003679757886923)),FixedSizeArrays.Point{3,Float64}((0.00010368937617720907,0.00010368937617720907,1.200249413440443)))\n",
      "n = FixedSizeArrays.Point{3,Float64}((-2.8498227976961267e-5,0.0023893032834024688,-0.0009626259859199927))\n",
      "face = GeometryTypes.Face{3,Int64,0}((4,2,1))\n",
      "v = (FixedSizeArrays.Point{3,Float64}((0.019971867781561268,0.019971867781561268,1.2489753949821722)),FixedSizeArrays.Point{3,Float64}((0.0007369007531038554,0.049187542089157675,1.2003679757886923)),FixedSizeArrays.Point{3,Float64}((0.00010368937617720907,0.00010368937617720907,1.200249413440443)))\n",
      "n = FixedSizeArrays.Point{3,Float64}((-0.0023893032834024688,2.8498227976961267e-5,0.0009626259859199927))\n",
      "face = GeometryTypes.Face{3,Int64,0}((4,3,1))\n",
      "v = (FixedSizeArrays.Point{3,Float64}((0.019971867781561268,0.019971867781561268,1.2489753949821722)),FixedSizeArrays.Point{3,Float64}((0.0007369007531038554,0.049187542089157675,1.2003679757886923)),FixedSizeArrays.Point{3,Float64}((0.049187542089157675,0.0007369007531038554,1.2003679757886923)))\n",
      "n = FixedSizeArrays.Point{3,Float64}((-0.0023550606336145176,-0.0023550606336145176,-0.000483571668661705))\n",
      "face = GeometryTypes.Face{3,Int64,0}((4,3,2))\n",
      "normals_result = 4-elementArray{FixedSizeArrays.Point{3,Float64},1}:\n",
      " Point(-0.00241205708956844,0.00242354593319042,-0.002408823640501691)\n",
      " Point(-0.0023778144397804887,3.9987071598941194e-5,-0.0038550212950833884)\n",
      " Point(-0.004738619495205996,-0.002320817983826566,-0.001929769323243403)\n",
      " Point(-0.0047728621449939475,6.274087776491234e-5,-0.000483571668661705)\n",
      "\n",
      "normals_result = 4-elementArray{FixedSizeArrays.Point{3,Float64},1}:\n",
      " Point(-0.5766903755561218,0.5794372033869053,-0.5759173014175745)\n",
      " Point(-0.5249564268891558,0.008828052297587556,-0.8510833186947102)\n",
      " Point(-0.8434335317978916,-0.4130856488349058,-0.34348234913249864)\n",
      " Point(-0.9948215455557736,0.013077263723839464,-0.10079225005683291)\n",
      "\n",
      "v = (FixedSizeArrays.Point{3,Float64}((0.0021258943400107783,0.047695496864626055,1.2010468434342196)),FixedSizeArrays.Point{3,Float64}((0.047695496864626055,0.0021258943400107783,1.2010468434342196)),FixedSizeArrays.Point{3,Float64}((0.00025770131906340866,0.00025770131906340866,1.2007064380263603)))\n",
      "n = FixedSizeArrays.Point{3,Float64}((1.5512139133377393e-5,1.5512139133377393e-5,-0.002246854301059087))\n",
      "face = GeometryTypes.Face{3,Int64,0}((3,2,1))\n",
      "v = (FixedSizeArrays.Point{3,Float64}((0.019920907476299765,0.019920907476299765,1.2470821551052)),FixedSizeArrays.Point{3,Float64}((0.047695496864626055,0.0021258943400107783,1.2010468434342196)),FixedSizeArrays.Point{3,Float64}((0.00025770131906340866,0.00025770131906340866,1.2007064380263603)))\n",
      "n = FixedSizeArrays.Point{3,Float64}((-7.994532927634273e-5,0.00219326832335308,-0.0008960444889448283))\n",
      "face = GeometryTypes.Face{3,Int64,0}((4,2,1))\n",
      "v = (FixedSizeArrays.Point{3,Float64}((0.019920907476299765,0.019920907476299765,1.2470821551052)),FixedSizeArrays.Point{3,Float64}((0.0021258943400107783,0.047695496864626055,1.2010468434342196)),FixedSizeArrays.Point{3,Float64}((0.00025770131906340866,0.00025770131906340866,1.2007064380263603)))\n",
      "n = FixedSizeArrays.Point{3,Float64}((-0.00219326832335308,7.994532927634273e-5,0.0008960444889448283))\n",
      "face = GeometryTypes.Face{3,Int64,0}((4,3,1))\n",
      "v = (FixedSizeArrays.Point{3,Float64}((0.019920907476299765,0.019920907476299765,1.2470821551052)),FixedSizeArrays.Point{3,Float64}((0.0021258943400107783,0.047695496864626055,1.2010468434342196)),FixedSizeArrays.Point{3,Float64}((0.047695496864626055,0.0021258943400107783,1.2010468434342196)))\n",
      "n = FixedSizeArrays.Point{3,Float64}((-0.0020978108549433595,-0.0020978108549433595,-0.00045476532316942984))\n",
      "face = GeometryTypes.Face{3,Int64,0}((4,3,2))\n",
      "normals_result = 4-elementArray{FixedSizeArrays.Point{3,Float64},1}:\n",
      " Point(-0.002257701513496045,0.0022887257917628,-0.002246854301059087)\n",
      " Point(-0.0021622440450863247,0.00011096960754309769,-0.0035976641131733452)\n",
      " Point(-0.004275567039163063,-0.0020023533865336394,-0.0018055751352836884)\n",
      " Point(-0.004371024507572782,0.00017540279768606332,-0.00045476532316942984)\n",
      "\n",
      "normals_result = 4-elementArray{FixedSizeArrays.Point{3,Float64},1}:\n",
      " Point(-0.5756177819204342,0.5835276522619475,-0.5728522044844192)\n",
      " Point(-0.5149543041055558,0.026428227266520738,-0.8568101385293664)\n",
      " Point(-0.8458596684188875,-0.39613692314419247,-0.35720716603134084)\n",
      " Point(-0.9938399858096086,0.039881339869238926,-0.103400006461273)\n",
      "\n",
      "  0.012568 seconds (9.89 k allocations: 509.021 KB)\n",
      "v = (FixedSizeArrays.Point{3,Float64}((0.0007369007531038554,0.049187542089157675,1.2003679757886923)),FixedSizeArrays.Point{3,Float64}((0.049187542089157675,0.0007369007531038554,1.2003679757886923)),FixedSizeArrays.Point{3,Float64}((0.00010368937617720907,0.00010368937617720907,1.200249413440443)))"
     ]
    },
    {
     "data": {
      "text/plain": [
       "nothing"
      ]
     },
     "execution_count": 5,
     "metadata": {
      "comm_id": "8e018002-2bb0-453e-a205-5ade5ff6d306",
      "reactive": true
     },
     "output_type": "execute_result"
    }
   ],
   "source": [
    "@manipulate for i = 1:length(history)\n",
    "    for j = 1:length(robots)\n",
    "        SoftRobots.draw(gl[j], robots[j], history[i][2][robots[j]])\n",
    "    end\n",
    "end"
   ]
  },
  {
   "cell_type": "code",
   "execution_count": 11,
   "metadata": {
    "collapsed": false
   },
   "outputs": [
    {
     "name": "stdout",
     "output_type": "stream",
     "text": [
      "v = (FixedSizeArrays.Point{3,Float64}((0.0,0.05,1.2)),FixedSizeArrays.Point{3,Float64}((0.05,0.0,1.2)),FixedSizeArrays.Point{3,Float64}((0.0,0.0,1.2)))"
     ]
    },
    {
     "data": {
      "text/plain": [
       "4-element Array{GeometryTypes.Normal{3,Float64},1}:\n",
       " Normal(-0.577350269189626,0.577350269189626,-0.5773502691896255)   \n",
       " Normal(-0.5299989400031803,0.0,-0.8479983040050878)                \n",
       " Normal(-0.842151921066519,-0.4210759605332595,-0.33686076842660745)\n",
       " Normal(-0.9950371902099892,0.0,-0.09950371902099887)               "
      ]
     },
     "execution_count": 11,
     "metadata": {},
     "output_type": "execute_result"
    },
    {
     "name": "stdout",
     "output_type": "stream",
     "text": [
      "\n",
      "n = FixedSizeArrays.Point{3,Float64}((0.0,0.0,-0.0025000000000000005))\n",
      "face = GeometryTypes.Face{3,Int64,0}((3,2,1))\n",
      "v = (FixedSizeArrays.Point{3,Float64}((0.02,0.02,1.25)),FixedSizeArrays.Point{3,Float64}((0.05,0.0,1.2)),FixedSizeArrays.Point{3,Float64}((0.0,0.0,1.2)))\n",
      "n = FixedSizeArrays.Point{3,Float64}((0.0,0.0025000000000000022,-0.001))\n",
      "face = GeometryTypes.Face{3,Int64,0}((4,2,1))\n",
      "v = (FixedSizeArrays.Point{3,Float64}((0.02,0.02,1.25)),FixedSizeArrays.Point{3,Float64}((0.0,0.05,1.2)),FixedSizeArrays.Point{3,Float64}((0.0,0.0,1.2)))\n",
      "n = FixedSizeArrays.Point{3,Float64}((-0.0025000000000000022,0.0,0.001))\n",
      "face = GeometryTypes.Face{3,Int64,0}((4,3,1))\n",
      "v = (FixedSizeArrays.Point{3,Float64}((0.02,0.02,1.25)),FixedSizeArrays.Point{3,Float64}((0.0,0.05,1.2)),FixedSizeArrays.Point{3,Float64}((0.05,0.0,1.2)))\n",
      "n = FixedSizeArrays.Point{3,Float64}((-0.0025000000000000022,-0.0025000000000000022,-0.0005000000000000002))\n",
      "face = GeometryTypes.Face{3,Int64,0}((4,3,2))\n",
      "normals_result = 4-elementArray{FixedSizeArrays.Point{3,Float64},1}:\n",
      " Point(-0.0025000000000000022,0.0025000000000000022,-0.0025000000000000005)\n",
      " Point(-0.0025000000000000022,0.0,-0.004000000000000001)\n",
      " Point(-0.0050000000000000044,-0.0025000000000000022,-0.002000000000000001)\n",
      " Point(-0.0050000000000000044,0.0,-0.0005000000000000002)\n",
      "\n",
      "normals_result = 4-elementArray{FixedSizeArrays.Point{3,Float64},1}:\n",
      " Point(-0.577350269189626,0.577350269189626,-0.5773502691896255)\n",
      " Point(-0.5299989400031803,0.0,-0.8479983040050878)\n",
      " Point(-0.842151921066519,-0.4210759605332595,-0.33686076842660745)\n",
      " Point(-0.9950371902099892,0.0,-0.09950371902099887)\n",
      "\n"
     ]
    }
   ],
   "source": [
    "points = history[1][2][robots[1]].positions\n",
    "normals = GeometryTypes.normals(points, robots[1].faces)"
   ]
  },
  {
   "cell_type": "code",
   "execution_count": 12,
   "metadata": {
    "collapsed": false
   },
   "outputs": [
    {
     "data": {
      "text/plain": [
       "3-element Array{Any,1}:\n",
       " [0.02,0.02,1.25]\n",
       " [0.0,0.05,1.2]  \n",
       " [0.05,0.0,1.2]  "
      ]
     },
     "execution_count": 12,
     "metadata": {},
     "output_type": "execute_result"
    }
   ],
   "source": [
    "v = Any[[0.02,0.02,1.25], [0.0,0.05,1.2], [0.05,0.0,1.2]]"
   ]
  },
  {
   "cell_type": "code",
   "execution_count": 13,
   "metadata": {
    "collapsed": false
   },
   "outputs": [
    {
     "data": {
      "text/plain": [
       "3-element Array{Float64,1}:\n",
       " -0.0025\n",
       " -0.0025\n",
       " -0.0005"
      ]
     },
     "execution_count": 13,
     "metadata": {},
     "output_type": "execute_result"
    }
   ],
   "source": [
    "cross(v[2] - v[1], v[3] - v[1])"
   ]
  },
  {
   "cell_type": "code",
   "execution_count": 7,
   "metadata": {
    "collapsed": false
   },
   "outputs": [
    {
     "name": "stdout",
     "output_type": "stream",
     "text": [
      "\n",
      "n = FixedSizeArrays.Point{3,Float64}((0.0,0.0,-0.0025000000000000005))\n",
      "face = GeometryTypes.Face{3,Int64,0}((3,2,1))\n",
      "v = (FixedSizeArrays.Point{3,Float64}((0.02,0.02,1.25)),FixedSizeArrays.Point{3,Float64}((0.05,0.0,1.2)),FixedSizeArrays.Point{3,Float64}((0.0,0.0,1.2)))\n",
      "n = FixedSizeArrays.Point{3,Float64}((0.0,0.0025000000000000022,-0.001))\n",
      "face = GeometryTypes.Face{3,Int64,0}((4,2,1))\n",
      "v = (FixedSizeArrays.Point{3,Float64}((0.02,0.02,1.25)),FixedSizeArrays.Point{3,Float64}((0.0,0.05,1.2)),FixedSizeArrays.Point{3,Float64}((0.0,0.0,1.2)))\n",
      "n = FixedSizeArrays.Point{3,Float64}((-0.0025000000000000022,0.0,0.001))\n",
      "face = GeometryTypes.Face{3,Int64,0}((4,3,1))\n",
      "v = (FixedSizeArrays.Point{3,Float64}((0.02,0.02,1.25)),FixedSizeArrays.Point{3,Float64}((0.0,0.05,1.2)),FixedSizeArrays.Point{3,Float64}((0.05,0.0,1.2)))\n",
      "n = FixedSizeArrays.Point{3,Float64}((-0.0025000000000000022,-0.0025000000000000022,-0.0005000000000000002))\n",
      "face = GeometryTypes.Face{3,Int64,0}((4,3,2))\n",
      "normals_result = 4-elementArray{FixedSizeArrays.Point{3,Float64},1}:\n",
      " Point(-0.0025000000000000022,0.0025000000000000022,-0.0025000000000000005)\n",
      " Point(-0.0025000000000000022,0.0,-0.004000000000000001)\n",
      " Point(-0.0050000000000000044,-0.0025000000000000022,-0.002000000000000001)\n",
      " Point(-0.0050000000000000044,0.0,-0.0005000000000000002)\n",
      "\n",
      "normals_result = 4-elementArray{FixedSizeArrays.Point{3,Float64},1}:\n",
      " Point(-0.577350269189626,0.577350269189626,-0.5773502691896255)\n",
      " Point(-0.5299989400031803,0.0,-0.8479983040050878)\n",
      " Point(-0.842151921066519,-0.4210759605332595,-0.33686076842660745)\n",
      " Point(-0.9950371902099892,0.0,-0.09950371902099887)\n",
      "\n"
     ]
    },
    {
     "ename": "LoadError",
     "evalue": "LoadError: UndefVarError: Axes3D not defined\nwhile loading In[7], in expression starting on line 1",
     "output_type": "error",
     "traceback": [
      "LoadError: UndefVarError: Axes3D not defined\nwhile loading In[7], in expression starting on line 1",
      ""
     ]
    }
   ],
   "source": [
    "ax = Axes3D(figure())\n",
    "ax[:quiver]([p[1] for p in points], [p[2] for p in points], [p[3] for p in points], [n[1] for n in normals], [n[2] for n in normals],\n",
    "    [n[3] for n in normals])\n",
    "xlim([-1,1])\n",
    "ylim([-1,1])\n",
    "zlim([-1,1])"
   ]
  },
  {
   "cell_type": "code",
   "execution_count": 8,
   "metadata": {
    "collapsed": false
   },
   "outputs": [
    {
     "ename": "LoadError",
     "evalue": "LoadError: UndefVarError: HyperRectangle not defined\nwhile loading In[8], in expression starting on line 1",
     "output_type": "error",
     "traceback": [
      "LoadError: UndefVarError: HyperRectangle not defined\nwhile loading In[8], in expression starting on line 1",
      ""
     ]
    }
   ],
   "source": [
    "boundary_mesh = SoftRobots.HomogenousMesh(SoftRobots.SignedDistanceField(\n",
    "x -> SoftRobots.evaluate(barrier, x), HyperRectangle(Vec(0., 0., 0.), Vec(4., 4, 4))))"
   ]
  },
  {
   "cell_type": "code",
   "execution_count": 9,
   "metadata": {
    "collapsed": false
   },
   "outputs": [
    {
     "ename": "LoadError",
     "evalue": "LoadError: UndefVarError: boundary_mesh not defined\nwhile loading In[9], in expression starting on line 1",
     "output_type": "error",
     "traceback": [
      "LoadError: UndefVarError: boundary_mesh not defined\nwhile loading In[9], in expression starting on line 1",
      ""
     ]
    }
   ],
   "source": [
    "SoftRobots.draw(boundary_mesh)"
   ]
  },
  {
   "cell_type": "code",
   "execution_count": 10,
   "metadata": {
    "collapsed": false
   },
   "outputs": [
    {
     "ename": "LoadError",
     "evalue": "LoadError: UndefVarError: vertices not defined\nwhile loading In[10], in expression starting on line 1",
     "output_type": "error",
     "traceback": [
      "LoadError: UndefVarError: vertices not defined\nwhile loading In[10], in expression starting on line 1",
      ""
     ]
    }
   ],
   "source": [
    "vertices(boundary_mesh)[1:100]"
   ]
  },
  {
   "cell_type": "code",
   "execution_count": null,
   "metadata": {
    "collapsed": true
   },
   "outputs": [],
   "source": []
  }
 ],
 "metadata": {
  "kernelspec": {
   "display_name": "Julia 0.4.2",
   "language": "julia",
   "name": "julia-0.4"
  },
  "language_info": {
   "file_extension": ".jl",
   "mimetype": "application/julia",
   "name": "julia",
   "version": "0.4.2"
  }
 },
 "nbformat": 4,
 "nbformat_minor": 0
}
