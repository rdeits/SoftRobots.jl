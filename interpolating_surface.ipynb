{
 "cells": [
  {
   "cell_type": "code",
   "execution_count": 1,
   "metadata": {
    "collapsed": false
   },
   "outputs": [
    {
     "name": "stderr",
     "output_type": "stream",
     "text": [
      "INFO: Recompiling stale cache file /Users/rdeits/.julia/lib/v0.4/SpatialFields.ji for module SpatialFields.\n"
     ]
    }
   ],
   "source": [
    "import SoftRobots"
   ]
  },
  {
   "cell_type": "code",
   "execution_count": 17,
   "metadata": {
    "collapsed": false
   },
   "outputs": [
    {
     "name": "stderr",
     "output_type": "stream",
     "text": [
      "WARNING: replacing module SoftRobots\n",
      "WARNING: Method definition convert(Type{Array{#T<:Any, 2}}, Array{FixedSizeArrays.Point{#N<:Any, #PointType<:Any}, 1}) in module SoftRobots at /Users/rdeits/.julia/v0.4/SoftRobots/src/drawing.jl:2 overwritten in module SoftRobots at /Users/rdeits/.julia/v0.4/SoftRobots/src/drawing.jl:2.\n",
      "WARNING: Method definition convert(Type{Array{#T<:Any, 2}}, Array{GeometryTypes.Face{#N<:Any, #FaceType<:Any, #Offset<:Any}, 1}) in module SoftRobots at /Users/rdeits/.julia/v0.4/SoftRobots/src/drawing.jl:12 overwritten in module SoftRobots at /Users/rdeits/.julia/v0.4/SoftRobots/src/drawing.jl:12.\n"
     ]
    }
   ],
   "source": [
    "reload(\"SoftRobots\")"
   ]
  },
  {
   "cell_type": "code",
   "execution_count": 18,
   "metadata": {
    "collapsed": false
   },
   "outputs": [
    {
     "data": {
      "text/plain": [
       "cube (generic function with 1 method)"
      ]
     },
     "execution_count": 18,
     "metadata": {},
     "output_type": "execute_result"
    }
   ],
   "source": [
    "function cube()\n",
    "    k = 10.\n",
    "    b = 4.0\n",
    "    l = 1.0\n",
    "    m = 0.1\n",
    "    nodes = SoftRobots.PointMass[]\n",
    "    positions = SoftRobots.Point{3, Float64}[]\n",
    "    for z = [0; 1]\n",
    "        for x = [0; 1]\n",
    "            for y = [0; 1]\n",
    "                push!(nodes, SoftRobots.PointMass(m))\n",
    "                push!(positions, SoftRobots.Point{3, Float64}(x, y, z))\n",
    "            end\n",
    "        end\n",
    "    end\n",
    "    push!(nodes, SoftRobots.PointMass(m))\n",
    "    push!(positions, SoftRobots.Point{3, Float64}(0.5, 0.5, 0.5))\n",
    "    num_nodes = length(nodes)\n",
    "    edges = SoftRobots.DampedSpring[]\n",
    "    for i = 1:num_nodes\n",
    "        for j = (i+1):num_nodes\n",
    "            rest_length = norm(positions[i] - positions[j])\n",
    "            push!(edges, SoftRobots.DampedSpring(i, j, k, b, rest_length))\n",
    "        end\n",
    "    end\n",
    "    faces = SoftRobots.convex_hull(positions)\n",
    "    robot = SoftRobots.SoftRobot(nodes, edges, faces)\n",
    "    velocities = [SoftRobots.Point{3, Float64}(0) for n in robot.nodes]\n",
    "    state = SoftRobots.SoftRobotState(positions, velocities)\n",
    "    robot, state\n",
    "end"
   ]
  },
  {
   "cell_type": "code",
   "execution_count": 19,
   "metadata": {
    "collapsed": false
   },
   "outputs": [
    {
     "data": {
      "text/plain": [
       "(SoftRobots.SoftRobot{Int64,0}([SoftRobots.PointMass(0.1),SoftRobots.PointMass(0.1),SoftRobots.PointMass(0.1),SoftRobots.PointMass(0.1),SoftRobots.PointMass(0.1),SoftRobots.PointMass(0.1),SoftRobots.PointMass(0.1),SoftRobots.PointMass(0.1),SoftRobots.PointMass(0.1)],[SoftRobots.DampedSpring(1,2,10.0,4.0,1.0),SoftRobots.DampedSpring(1,3,10.0,4.0,1.0),SoftRobots.DampedSpring(1,4,10.0,4.0,1.4142135623730951),SoftRobots.DampedSpring(1,5,10.0,4.0,1.0),SoftRobots.DampedSpring(1,6,10.0,4.0,1.4142135623730951),SoftRobots.DampedSpring(1,7,10.0,4.0,1.4142135623730951),SoftRobots.DampedSpring(1,8,10.0,4.0,1.7320508075688772),SoftRobots.DampedSpring(1,9,10.0,4.0,0.8660254037844386),SoftRobots.DampedSpring(2,3,10.0,4.0,1.4142135623730951),SoftRobots.DampedSpring(2,4,10.0,4.0,1.0)  …  SoftRobots.DampedSpring(5,6,10.0,4.0,1.0),SoftRobots.DampedSpring(5,7,10.0,4.0,1.0),SoftRobots.DampedSpring(5,8,10.0,4.0,1.4142135623730951),SoftRobots.DampedSpring(5,9,10.0,4.0,0.8660254037844386),SoftRobots.DampedSpring(6,7,10.0,4.0,1.4142135623730951),SoftRobots.DampedSpring(6,8,10.0,4.0,1.0),SoftRobots.DampedSpring(6,9,10.0,4.0,0.8660254037844386),SoftRobots.DampedSpring(7,8,10.0,4.0,1.0),SoftRobots.DampedSpring(7,9,10.0,4.0,0.8660254037844386),SoftRobots.DampedSpring(8,9,10.0,4.0,0.8660254037844386)],12-elementArray{GeometryTypes.Face{3,Int64,0},1}:\n",
       " Face(1,2,4)\n",
       " Face(4,3,1)\n",
       " Face(1,3,7)\n",
       " Face(7,5,1)\n",
       " Face(3,4,7)\n",
       " Face(7,4,8)\n",
       " Face(6,2,1)\n",
       " Face(1,5,6)\n",
       " Face(6,4,2)\n",
       " Face(8,4,6)\n",
       " Face(5,7,6)\n",
       " Face(6,7,8)\n",
       "),SoftRobots.SoftRobotState{Float64}(9-elementArray{FixedSizeArrays.Point{3,Float64},1}:\n",
       " Point(0.0,0.0,0.0)\n",
       " Point(0.0,1.0,0.0)\n",
       " Point(1.0,0.0,0.0)\n",
       " Point(1.0,1.0,0.0)\n",
       " Point(0.0,0.0,1.0)\n",
       " Point(0.0,1.0,1.0)\n",
       " Point(1.0,0.0,1.0)\n",
       " Point(1.0,1.0,1.0)\n",
       " Point(0.5,0.5,0.5)\n",
       ",9-elementArray{FixedSizeArrays.Point{3,Float64},1}:\n",
       " Point(0.0,0.0,0.0)\n",
       " Point(0.0,0.0,0.0)\n",
       " Point(0.0,0.0,0.0)\n",
       " Point(0.0,0.0,0.0)\n",
       " Point(0.0,0.0,0.0)\n",
       " Point(0.0,0.0,0.0)\n",
       " Point(0.0,0.0,0.0)\n",
       " Point(0.0,0.0,0.0)\n",
       " Point(0.0,0.0,0.0)\n",
       ",#undef,#undef))"
      ]
     },
     "execution_count": 19,
     "metadata": {},
     "output_type": "execute_result"
    }
   ],
   "source": [
    "robot, state = cube()"
   ]
  },
  {
   "cell_type": "code",
   "execution_count": 20,
   "metadata": {
    "collapsed": false
   },
   "outputs": [],
   "source": [
    "SoftRobots.draw(robot, state)"
   ]
  },
  {
   "cell_type": "code",
   "execution_count": 43,
   "metadata": {
    "collapsed": false
   },
   "outputs": [
    {
     "data": {
      "text/plain": [
       "barrier_mesh (generic function with 3 methods)"
      ]
     },
     "execution_count": 43,
     "metadata": {},
     "output_type": "execute_result"
    }
   ],
   "source": [
    "function barrier_mesh(surface::InterpolatingSurface)\n",
    "    center = mean(surface.points)\n",
    "    widths = 2 * (maximum(surface.points) - minimum(surface.points))\n",
    "    lb = center - 0.5*widths\n",
    "    @show lb\n",
    "    @show widths\n",
    "    bounds = HyperRectangle(Vec(lb), Vec(widths))\n",
    "    @show bounds\n",
    "    barrier_mesh(bounds, surface)\n",
    "end\n"
   ]
  },
  {
   "cell_type": "code",
   "execution_count": 44,
   "metadata": {
    "collapsed": false
   },
   "outputs": [
    {
     "name": "stdout",
     "output_type": "stream",
     "text": [
      "lb = FixedSizeArrays.Point{3,Float64}((-0.5,-1.0555555555555556,-0.5))"
     ]
    },
    {
     "data": {
      "text/plain": [
       "4528-element Array{FixedSizeArrays.Point{3,Float64},1}:\n",
       " Point(1.2548191273210272,1.8992635717654716,1.0)                    \n",
       " Point(0.0,1.931425270558764,1.1869808261143195)                     \n",
       " Point(0.30000000000000004,-0.03730114562212572,-0.09999999999999998)\n",
       " Point(0.6000000000000001,1.9648251387791327,-0.27961930566531173)   \n",
       " Point(0.7875615235149274,1.9320059679593717,1.3)                    \n",
       " Point(1.067765955046174,2.012210399490619,0.8677659550461738)       \n",
       " Point(0.09999999999999998,2.095527695532481,0.5510832510880361)     \n",
       " Point(0.19999999999999996,1.9960079856770652,1.1515635412326208)    \n",
       " Point(1.5,0.5058518373626364,-0.3)                                  \n",
       " Point(1.4999810246283858,1.2444444444444442,1.5)                    \n",
       " Point(0.30000000000000004,-0.14784841263812898,0.7)                 \n",
       " Point(0.8035632335231631,-0.05555555555555558,1.0035632335231632)   \n",
       " Point(0.6000000000000001,1.9170917060801067,1.3726472616356624)     \n",
       " ⋮                                                                   \n",
       " Point(-0.4,1.895646037659122,0.6512015932146773)                    \n",
       " Point(-0.2,1.9444444444444444,0.06354346498821828)                  \n",
       " Point(0.9279028919837877,-0.05555555555555558,0.8999999999999999)   \n",
       " Point(0.46693125732782514,-0.08862429822773044,0.0)                 \n",
       " Point(0.8999999999999999,1.9193781439704327,1.2749336995259881)     \n",
       " Point(-0.13565205842074046,0.20879238602370376,-0.3)                \n",
       " Point(1.3374719931347898,1.581916437579234,1.4374719931347897)      \n",
       " Point(1.5,1.4351391023700917,1.4)                                   \n",
       " Point(-0.3,0.47237336158748744,-0.4720710828569567)                 \n",
       " Point(0.09999999999999998,0.10967565986049621,-0.3)                 \n",
       " Point(1.1523648508629507,-0.003190704692605184,0.7523648508629504)  \n",
       " Point(1.316357528679005,1.8608019731234495,1.016357528679005)       "
      ]
     },
     "execution_count": 44,
     "metadata": {},
     "output_type": "execute_result"
    },
    {
     "name": "stdout",
     "output_type": "stream",
     "text": [
      "\n",
      "widths = FixedSizeArrays.Point{3,Float64}((2.0,4.0,2.0))\n",
      "bounds = GeometryTypes.HyperRectangle{3,Float64}(FixedSizeArrays.Vec{3,Float64}((-0.5,-1.0555555555555556,-0.5)),FixedSizeArrays.Vec{3,Float64}((2.0,4.0,2.0)))\n"
     ]
    }
   ],
   "source": [
    "vertices(barrier_mesh(surface))"
   ]
  },
  {
   "cell_type": "code",
   "execution_count": 45,
   "metadata": {
    "collapsed": false
   },
   "outputs": [
    {
     "data": {
      "text/plain": [
       "draw (generic function with 1 method)"
      ]
     },
     "execution_count": 45,
     "metadata": {},
     "output_type": "execute_result"
    }
   ],
   "source": [
    "function draw(surface)\n",
    "    lcm = SoftRobots.LCM()\n",
    "    msg = SoftRobots.lcmdrake[:lcmt_viewer_load_robot]()\n",
    "    push!(msg[\"link\"], SoftRobots.link_data(barrier_mesh(surface), \"barrier\", 1))\n",
    "    msg[:num_links] = 1\n",
    "    SoftRobots.publish(lcm, \"DRAKE_VIEWER_LOAD_ROBOT\", msg)\n",
    "end"
   ]
  },
  {
   "cell_type": "code",
   "execution_count": 46,
   "metadata": {
    "collapsed": false
   },
   "outputs": [
    {
     "name": "stdout",
     "output_type": "stream",
     "text": [
      "lb = FixedSizeArrays.Point{3,Float64}((-0.5,-1.0555555555555556,-0.5))\n",
      "widths = FixedSizeArrays.Point{3,Float64}((2.0,4.0,2.0))\n",
      "bounds = GeometryTypes.HyperRectangle{3,Float64}(FixedSizeArrays.Vec{3,Float64}((-0.5,-1.0555555555555556,-0.5)),FixedSizeArrays.Vec{3,Float64}((2.0,4.0,2.0)))\n"
     ]
    }
   ],
   "source": [
    "draw(surface)"
   ]
  },
  {
   "cell_type": "code",
   "execution_count": 48,
   "metadata": {
    "collapsed": false
   },
   "outputs": [
    {
     "data": {
      "text/plain": [
       "-8.881784197001252e-16"
      ]
     },
     "execution_count": 48,
     "metadata": {},
     "output_type": "execute_result"
    }
   ],
   "source": [
    "evaluate(surface, [1; 2.; 0])"
   ]
  },
  {
   "cell_type": "code",
   "execution_count": null,
   "metadata": {
    "collapsed": true
   },
   "outputs": [],
   "source": []
  }
 ],
 "metadata": {
  "kernelspec": {
   "display_name": "Julia 0.4.5",
   "language": "julia",
   "name": "julia-0.4"
  },
  "language_info": {
   "file_extension": ".jl",
   "mimetype": "application/julia",
   "name": "julia",
   "version": "0.4.5"
  }
 },
 "nbformat": 4,
 "nbformat_minor": 0
}
