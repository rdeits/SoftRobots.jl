{
 "cells": [
  {
   "cell_type": "code",
   "execution_count": 18,
   "metadata": {
    "collapsed": true
   },
   "outputs": [],
   "source": [
    "using FileIO"
   ]
  },
  {
   "cell_type": "code",
   "execution_count": 72,
   "metadata": {
    "collapsed": true
   },
   "outputs": [],
   "source": [
    "using MeshIO"
   ]
  },
  {
   "cell_type": "code",
   "execution_count": 5,
   "metadata": {
    "collapsed": false
   },
   "outputs": [
    {
     "name": "stderr",
     "output_type": "stream",
     "text": [
      "INFO: Precompiling module Meshes...\n"
     ]
    }
   ],
   "source": [
    "using Meshes"
   ]
  },
  {
   "cell_type": "code",
   "execution_count": 73,
   "metadata": {
    "collapsed": false
   },
   "outputs": [
    {
     "data": {
      "text/plain": [
       "HomogenousMesh(\n",
       "    vertices: 3xFixedSizeArrays.Point{3,Float64},     faces: 1xGeometryTypes.Face{3,Int64,0}, )\n"
      ]
     },
     "execution_count": 73,
     "metadata": {},
     "output_type": "execute_result"
    }
   ],
   "source": [
    "mesh = HomogenousMesh(Point{3, Float64}[[0.; 0; 0], [1.; 0; 0], [0.; 0; 1]], \n",
    "    Face{3,Int,0}[[1; 2; 3]])"
   ]
  },
  {
   "cell_type": "code",
   "execution_count": 74,
   "metadata": {
    "collapsed": false
   },
   "outputs": [
    {
     "data": {
      "text/plain": [
       "3-element Array{GeometryTypes.Normal{3,Float64},1}:\n",
       " Normal(0.0,-1.0,0.0)\n",
       " Normal(0.0,-1.0,0.0)\n",
       " Normal(0.0,-1.0,0.0)"
      ]
     },
     "execution_count": 74,
     "metadata": {},
     "output_type": "execute_result"
    }
   ],
   "source": [
    "normals(mesh.vertices, mesh.faces)"
   ]
  },
  {
   "cell_type": "code",
   "execution_count": 80,
   "metadata": {
    "collapsed": false
   },
   "outputs": [
    {
     "ename": "LoadError",
     "evalue": "LoadError: MethodError: `convert` has no method matching convert(::Type{Void}, ::GeometryTypes.Normal{3,Float64})\nThis may have arisen from a call to the constructor Void(...),\nsince type constructors fall back to convert methods.\nClosest candidates are:\n  call{T}(::Type{T}, ::Any)\n  convert(::Type{Void}, !Matched::PyCall.PyObject)\n  convert{T}(::Type{T}, !Matched::T)\n  ...\nwhile loading In[80], in expression starting on line 1",
     "output_type": "error",
     "traceback": [
      "LoadError: MethodError: `convert` has no method matching convert(::Type{Void}, ::GeometryTypes.Normal{3,Float64})\nThis may have arisen from a call to the constructor Void(...),\nsince type constructors fall back to convert methods.\nClosest candidates are:\n  call{T}(::Type{T}, ::Any)\n  convert(::Type{Void}, !Matched::PyCall.PyObject)\n  convert{T}(::Type{T}, !Matched::T)\n  ...\nwhile loading In[80], in expression starting on line 1",
      "",
      " in copy! at abstractarray.jl:310",
      " in convert at array.jl:240"
     ]
    }
   ],
   "source": [
    "mesh.normals = normals(mesh.vertices, mesh.faces)"
   ]
  },
  {
   "cell_type": "code",
   "execution_count": 78,
   "metadata": {
    "collapsed": false
   },
   "outputs": [
    {
     "ename": "LoadError",
     "evalue": "LoadError: MethodError: `getindex` has no method matching getindex(::GeometryTypes.HomogenousMesh{FixedSizeArrays.Point{3,Float64},GeometryTypes.Face{3,Int64,0},Void,Void,Void,Void,Void}, ::Type{GeometryTypes.Normal{3,Float64}})\nwhile loading In[78], in expression starting on line 1",
     "output_type": "error",
     "traceback": [
      "LoadError: MethodError: `getindex` has no method matching getindex(::GeometryTypes.HomogenousMesh{FixedSizeArrays.Point{3,Float64},GeometryTypes.Face{3,Int64,0},Void,Void,Void,Void,Void}, ::Type{GeometryTypes.Normal{3,Float64}})\nwhile loading In[78], in expression starting on line 1",
      ""
     ]
    }
   ],
   "source": [
    "mesh[MeshIO.Normal{3, Float64}]"
   ]
  },
  {
   "cell_type": "code",
   "execution_count": 19,
   "metadata": {
    "collapsed": false
   },
   "outputs": [],
   "source": [
    "save(File(format\"STL_BINARY\", \"mesh.stl\"), mesh)"
   ]
  },
  {
   "cell_type": "code",
   "execution_count": 20,
   "metadata": {
    "collapsed": true
   },
   "outputs": [],
   "source": [
    "using PyCall"
   ]
  },
  {
   "cell_type": "code",
   "execution_count": 46,
   "metadata": {
    "collapsed": false
   },
   "outputs": [],
   "source": [
    "using PyLCM"
   ]
  },
  {
   "cell_type": "code",
   "execution_count": 21,
   "metadata": {
    "collapsed": false,
    "scrolled": false
   },
   "outputs": [
    {
     "data": {
      "text/plain": [
       "PyObject ['/Users/rdeits/locomotion/drake-distro/build/lib/python2.7/dist-packages', '/usr/local/lib/python2.7/site-packages/dxf-1.1.1-py2.7.egg', '/usr/local/lib/python2.7/site-packages/numexpr-2.0rc2-py2.7-macosx-10.4-x86_64.egg', '/usr/local/lib/python2.7/site-packages/quantities-0.10.1-py2.7.egg', '/usr/local/lib/python2.7/site-packages/ropevim-0.3_rc-py2.7.egg', '/usr/local/lib/python2.7/site-packages/ropemode-0.1_rc2-py2.7.egg', '/usr/local/lib/python2.7/site-packages/rope-0.9.3-py2.7.egg', '/usr/local/lib/python2.7/site-packages/rosinstall-0.5.30-py2.7.egg', '/usr/local/lib/python2.7/site-packages/vcstools-0.1.6-py2.7.egg', '/usr/local/lib/python2.7/site-packages/TornadIO2-0.0.3-py2.7.egg', '/usr/local/lib/python2.7/site-packages/simplejson-2.5.0-py2.7-macosx-10.4-x86_64.egg', '/Users/rdeits/locomotion/drake-distro/build/lib/python2.7/dist-packages', '/Users/rdeits/Projects/Bemis100/Bemis-100/build/lib/python2.7/dist-packages', '/Users/rdeits/Projects/Bemis100/Bemis-100', '/Users/rdeits/.julia/v0.4/SoftRobots', '/Users/rdeits/locomotion/drake-distro/build/lib/python2.7/site-packages', '/usr/local/Cellar/python/2.7.10_2/Frameworks/Python.framework/Versions/2.7/lib/python27.zip', '/usr/local/Cellar/python/2.7.10_2/Frameworks/Python.framework/Versions/2.7/lib/python2.7', '/usr/local/Cellar/python/2.7.10_2/Frameworks/Python.framework/Versions/2.7/lib/python2.7/plat-darwin', '/usr/local/Cellar/python/2.7.10_2/Frameworks/Python.framework/Versions/2.7/lib/python2.7/plat-mac', '/usr/local/Cellar/python/2.7.10_2/Frameworks/Python.framework/Versions/2.7/lib/python2.7/plat-mac/lib-scriptpackages', '/usr/local/Cellar/python/2.7.10_2/Frameworks/Python.framework/Versions/2.7/lib/python2.7/lib-tk', '/usr/local/Cellar/python/2.7.10_2/Frameworks/Python.framework/Versions/2.7/lib/python2.7/lib-old', '/usr/local/Cellar/python/2.7.10_2/Frameworks/Python.framework/Versions/2.7/lib/python2.7/lib-dynload', '/usr/local/lib/python2.7/site-packages', '/usr/local/lib/python2.7/site-packages/PIL', '/usr/local/Cellar/numpy/1.10.0/libexec/nose/lib/python2.7/site-packages', '/usr/local/Cellar/protobuf/2.6.1/libexec/lib/python2.7/site-packages', '/Library/Python/2.7/site-packages']"
      ]
     },
     "execution_count": 21,
     "metadata": {},
     "output_type": "execute_result"
    }
   ],
   "source": [
    "unshift!(PyVector(pyimport(\"sys\")[\"path\"]), \n",
    "\"/Users/rdeits/locomotion/drake-distro/build/lib/python2.7/dist-packages\")"
   ]
  },
  {
   "cell_type": "code",
   "execution_count": 22,
   "metadata": {
    "collapsed": true
   },
   "outputs": [],
   "source": [
    "@pyimport drake"
   ]
  },
  {
   "cell_type": "code",
   "execution_count": 47,
   "metadata": {
    "collapsed": false
   },
   "outputs": [
    {
     "data": {
      "text/plain": [
       "PyLCM.PyLCMWrapper(PyObject <LCM object at 0x3189ed6f0>)"
      ]
     },
     "execution_count": 47,
     "metadata": {},
     "output_type": "execute_result"
    }
   ],
   "source": [
    "lcm = LCM()"
   ]
  },
  {
   "cell_type": "code",
   "execution_count": 56,
   "metadata": {
    "collapsed": false
   },
   "outputs": [
    {
     "data": {
      "text/plain": [
       "1"
      ]
     },
     "execution_count": 56,
     "metadata": {},
     "output_type": "execute_result"
    }
   ],
   "source": [
    "msg = drake.lcmt_viewer_load_robot()\n",
    "msg[\"link\"][:append](drake.lcmt_viewer_link_data())\n",
    "msg[:link][1][:name] = \"snake\"\n",
    "msg[:link][1][:robot_num] = 1\n",
    "msg[:num_links] = 1\n",
    "geom = drake.lcmt_viewer_geometry_data()\n",
    "geom[:type] = geom[:BOX]\n",
    "geom[:position] = [0.; 0; 0]\n",
    "geom[:quaternion] = [1.; 0; 0; 0]\n",
    "geom[:color] = [1.; 0; 0; 1]\n",
    "geom[:float_data] = [1.; 1.; 1.]\n",
    "geom[:num_float_data] = 3\n",
    "msg[:link][1][\"geom\"][:append](geom)\n",
    "msg[:link][1][:num_geom] = 1"
   ]
  },
  {
   "cell_type": "code",
   "execution_count": 83,
   "metadata": {
    "collapsed": false
   },
   "outputs": [
    {
     "data": {
      "text/plain": [
       "1"
      ]
     },
     "execution_count": 83,
     "metadata": {},
     "output_type": "execute_result"
    }
   ],
   "source": [
    "msg = drake.lcmt_viewer_load_robot()\n",
    "msg[\"link\"][:append](drake.lcmt_viewer_link_data())\n",
    "msg[:link][1][:name] = \"snake\"\n",
    "msg[:link][1][:robot_num] = 1\n",
    "msg[:num_links] = 1\n",
    "geom = drake.lcmt_viewer_geometry_data()\n",
    "geom[:type] = geom[:MESH]\n",
    "geom[:position] = [0.; 0; 0]\n",
    "geom[:quaternion] = [1.; 0; 0; 0]\n",
    "geom[:color] = [1.; 0; 0; 0.5]\n",
    "geom[:float_data] = [1.]\n",
    "geom[:num_float_data] = 1\n",
    "geom[:string_data] = \"/Users/rdeits/.julia/v0.4/SoftRobots/mesh.stl\"\n",
    "msg[:link][1][\"geom\"][:append](geom)\n",
    "msg[:link][1][:num_geom] = 1"
   ]
  },
  {
   "cell_type": "code",
   "execution_count": 84,
   "metadata": {
    "collapsed": false
   },
   "outputs": [],
   "source": [
    "publish(lcm, \"DRAKE_VIEWER_LOAD_ROBOT\", msg)"
   ]
  },
  {
   "cell_type": "code",
   "execution_count": null,
   "metadata": {
    "collapsed": true
   },
   "outputs": [],
   "source": []
  }
 ],
 "metadata": {
  "kernelspec": {
   "display_name": "Julia 0.4.3",
   "language": "julia",
   "name": "julia-0.4"
  },
  "language_info": {
   "file_extension": ".jl",
   "mimetype": "application/julia",
   "name": "julia",
   "version": "0.4.3"
  }
 },
 "nbformat": 4,
 "nbformat_minor": 0
}
