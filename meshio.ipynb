{
 "cells": [
  {
   "cell_type": "code",
   "execution_count": 1,
   "metadata": {
    "collapsed": false
   },
   "outputs": [],
   "source": [
    "import Meshes"
   ]
  },
  {
   "cell_type": "code",
   "execution_count": 2,
   "metadata": {
    "collapsed": true
   },
   "outputs": [],
   "source": [
    "import GeometryTypes"
   ]
  },
  {
   "cell_type": "code",
   "execution_count": 4,
   "metadata": {
    "collapsed": false
   },
   "outputs": [
    {
     "data": {
      "text/plain": [
       "GeometryTypes.Face{3,Int64,IndexOffset}"
      ]
     },
     "execution_count": 4,
     "metadata": {},
     "output_type": "execute_result"
    }
   ],
   "source": [
    "GeometryTypes.Face{3, Int}"
   ]
  },
  {
   "cell_type": "code",
   "execution_count": 5,
   "metadata": {
    "collapsed": true
   },
   "outputs": [],
   "source": [
    "using GeometryTypes"
   ]
  },
  {
   "cell_type": "code",
   "execution_count": 7,
   "metadata": {
    "collapsed": false
   },
   "outputs": [
    {
     "data": {
      "text/plain": [
       "FixedSizeArrays.Vec{3,Float64}"
      ]
     },
     "execution_count": 7,
     "metadata": {},
     "output_type": "execute_result"
    }
   ],
   "source": [
    "Vec{3, Float64}"
   ]
  },
  {
   "cell_type": "code",
   "execution_count": 13,
   "metadata": {
    "collapsed": true
   },
   "outputs": [],
   "source": [
    "@pyimport scipy.spatial as spatial"
   ]
  },
  {
   "cell_type": "code",
   "execution_count": 12,
   "metadata": {
    "collapsed": true
   },
   "outputs": [],
   "source": [
    "using PyCall"
   ]
  },
  {
   "cell_type": "code",
   "execution_count": 118,
   "metadata": {
    "collapsed": false
   },
   "outputs": [
    {
     "name": "stderr",
     "output_type": "stream",
     "text": [
      "INFO: Precompiling module SoftRobots...\n",
      "WARNING: replacing module SoftRobots\n"
     ]
    }
   ],
   "source": [
    "import SoftRobots\n",
    "reload(\"SoftRobots\")"
   ]
  },
  {
   "cell_type": "code",
   "execution_count": 119,
   "metadata": {
    "collapsed": false
   },
   "outputs": [],
   "source": [
    "robot, state = SoftRobots.tetrahedron();"
   ]
  },
  {
   "cell_type": "code",
   "execution_count": 120,
   "metadata": {
    "collapsed": false
   },
   "outputs": [
    {
     "data": {
      "text/plain": [
       "HomogenousMesh(\n",
       "    vertices: 4xFixedSizeArrays.Point{3,Float64},     faces: 4xGeometryTypes.Face{3,T,IndexOffset}, )\n"
      ]
     },
     "execution_count": 120,
     "metadata": {},
     "output_type": "execute_result"
    }
   ],
   "source": [
    "m = SoftRobots.mesh(robot, state)"
   ]
  },
  {
   "cell_type": "code",
   "execution_count": 121,
   "metadata": {
    "collapsed": true
   },
   "outputs": [],
   "source": [
    "SoftRobots.draw(m)"
   ]
  },
  {
   "cell_type": "code",
   "execution_count": 122,
   "metadata": {
    "collapsed": false
   },
   "outputs": [
    {
     "data": {
      "text/plain": [
       "4-element Array{GeometryTypes.Face{3,T,IndexOffset},1}:\n",
       " Face(3,2,1)\n",
       " Face(4,2,1)\n",
       " Face(4,3,1)\n",
       " Face(4,3,2)"
      ]
     },
     "execution_count": 122,
     "metadata": {},
     "output_type": "execute_result"
    }
   ],
   "source": [
    "faces(m)"
   ]
  },
  {
   "cell_type": "code",
   "execution_count": 88,
   "metadata": {
    "collapsed": false
   },
   "outputs": [
    {
     "data": {
      "text/plain": [
       "4-element Array{FixedSizeArrays.Point{3,Float64},1}:\n",
       " Point(0.0,0.0,0.0)     \n",
       " Point(0.05,0.0,0.0)    \n",
       " Point(0.0,0.05,0.0)    \n",
       " Point(0.025,0.025,0.05)"
      ]
     },
     "execution_count": 88,
     "metadata": {},
     "output_type": "execute_result"
    }
   ],
   "source": [
    "vertices(m)"
   ]
  },
  {
   "cell_type": "code",
   "execution_count": 53,
   "metadata": {
    "collapsed": false
   },
   "outputs": [
    {
     "name": "stderr",
     "output_type": "stream",
     "text": [
      "QH6154 qhull precision error: initial facet 1 is coplanar with the interior point\n",
      "ERRONEOUS FACET:\n",
      "- f1\n",
      "    - flags: bottom simplicial flipped\n",
      "    - normal:         0        0        1\n",
      "    - offset:         -0\n",
      "    - vertices: p3(v2) p25(v1) p0(v0)\n",
      "    - neighboring facets: f2 f3 f4\n",
      "\n",
      "While executing:  | qhull i Qt\n",
      "Options selected for Qhull 2012.1 2012/02/18:\n",
      "  run-id 996932699  incidence  Qtriangulate  _pre-merge  _zero-centrum\n",
      "  _max-width 0.45  Error-roundoff 1.2e-15  _one-merge 8.3e-15\n",
      "  _near-inside 4.1e-14  Visible-distance 2.4e-15  U-coplanar-distance 2.4e-15\n",
      "  Width-outside 4.7e-15  _wide-facet 1.4e-14\n",
      "\n",
      "The input to qhull appears to be less than 3 dimensional, or a\n",
      "computation has overflowed.\n",
      "\n",
      "Qhull could not construct a clearly convex simplex from points:\n",
      "- p1(v3):  0.45  0.75     0\n",
      "- p3(v2):  0.45  0.85     0\n",
      "- p25(v1):  0.85   0.8     0\n",
      "- p0(v0):   0.4   0.8     0\n",
      "\n",
      "The center point is coplanar with a facet, or a vertex is coplanar\n",
      "with a neighboring facet.  The maximum round off error for\n",
      "computing distances is 1.2e-15.  The center point, facets and distances\n",
      "to the center point are as follows:\n",
      "\n",
      "center point   0.5375      0.8        0\n",
      "\n",
      "facet p3 p25 p0 distance=    0\n",
      "facet p1 p25 p0 distance=    0\n",
      "facet p1 p3 p0 distance=    0\n",
      "facet p1 p3 p25 distance=    0\n",
      "\n",
      "These points either have a maximum or minimum x-coordinate, or\n",
      "they maximize the determinant for k coordinates.  Trial points\n",
      "are first selected from points that maximize a coordinate.\n",
      "\n",
      "The min and max coordinates for each dimension are:\n",
      "  0:       0.4      0.85  difference= 0.45\n",
      "  1:      0.75      0.85  difference=  0.1\n",
      "  2:         0         0  difference=    0\n",
      "\n",
      "If the input should be full dimensional, you have several options that\n",
      "may determine an initial simplex:\n",
      "  - use 'QJ'  to joggle the input and make it full dimensional\n",
      "  - use 'QbB' to scale the points to the unit cube\n",
      "  - use 'QR0' to randomly rotate the input for different maximum points\n",
      "  - use 'Qs'  to search all points for the initial simplex\n",
      "  - use 'En'  to specify a maximum roundoff error less than 1.2e-15.\n",
      "  - trace execution with 'T3' to see the determinant for each point.\n",
      "\n",
      "If the input is lower dimensional:\n",
      "  - use 'QJ' to joggle the input and make it full dimensional\n",
      "  - use 'Qbk:0Bk:0' to delete coordinate k from the input.  You should\n",
      "    pick the coordinate with the least range.  The hull will have the\n",
      "    correct topology.\n",
      "  - determine the flat containing the points, rotate the points\n",
      "    into a coordinate plane, and delete the other coordinates.\n",
      "  - add one or more points to make the input full dimensional.\n"
     ]
    },
    {
     "ename": "LoadError",
     "evalue": "LoadError: PyError (:PyObject_Call) <class 'scipy.spatial.qhull.QhullError'>\nQhullError('Qhull error',)\n  File \"scipy/spatial/qhull.pyx\", line 2230, in scipy.spatial.qhull.ConvexHull.__init__ (scipy/spatial/qhull.c:20317)\n  File \"scipy/spatial/qhull.pyx\", line 328, in scipy.spatial.qhull._Qhull.__init__ (scipy/spatial/qhull.c:3639)\n\nwhile loading In[53], in expression starting on line 1",
     "output_type": "error",
     "traceback": [
      "LoadError: PyError (:PyObject_Call) <class 'scipy.spatial.qhull.QhullError'>\nQhullError('Qhull error',)\n  File \"scipy/spatial/qhull.pyx\", line 2230, in scipy.spatial.qhull.ConvexHull.__init__ (scipy/spatial/qhull.c:20317)\n  File \"scipy/spatial/qhull.pyx\", line 328, in scipy.spatial.qhull._Qhull.__init__ (scipy/spatial/qhull.c:3639)\n\nwhile loading In[53], in expression starting on line 1",
      "",
      " [inlined code] from /Users/rdeits/.julia/v0.4/PyCall/src/exception.jl:81",
      " in pycall at /Users/rdeits/.julia/v0.4/PyCall/src/PyCall.jl:344",
      " in call at /Users/rdeits/.julia/v0.4/PyCall/src/PyCall.jl:372",
      " in convex_hull at /Users/rdeits/.julia/v0.4/SoftRobots/src/SoftRobots.jl:245",
      " in snake at /Users/rdeits/.julia/v0.4/SoftRobots/src/SoftRobots.jl:305"
     ]
    }
   ],
   "source": [
    "nodes = SoftRobots.snake()\n",
    "for i = 1:length(nodes)\n",
    "    nodes[i] = Point(nodes[i][1:2]..., randn())\n",
    "end"
   ]
  },
  {
   "cell_type": "code",
   "execution_count": 35,
   "metadata": {
    "collapsed": false
   },
   "outputs": [
    {
     "data": {
      "text/plain": [
       "PyObject <scipy.spatial.qhull.ConvexHull object at 0x31812c590>"
      ]
     },
     "execution_count": 35,
     "metadata": {},
     "output_type": "execute_result"
    }
   ],
   "source": [
    "hull = spatial.ConvexHull(hcat(map(x -> convert(Vector, x), nodes)...)')"
   ]
  },
  {
   "cell_type": "code",
   "execution_count": 36,
   "metadata": {
    "collapsed": false
   },
   "outputs": [
    {
     "data": {
      "text/plain": [
       "22x3 Array{Int32,2}:\n",
       "  7  21   0\n",
       "  6   3   0\n",
       "  6  21   0\n",
       " 15  16   3\n",
       " 22  21  25\n",
       " 22   7  21\n",
       "  1   3   0\n",
       "  1   7   0\n",
       " 24  21  25\n",
       " 24  15  25\n",
       " 19  22  25\n",
       " 19  15  25\n",
       " 19  15  16\n",
       "  4  16   3\n",
       "  4   1   3\n",
       " 24   6  21\n",
       " 24   6   3\n",
       " 24  15   3\n",
       "  4  22   7\n",
       "  4   1   7\n",
       "  4  19  22\n",
       "  4  19  16"
      ]
     },
     "execution_count": 36,
     "metadata": {},
     "output_type": "execute_result"
    }
   ],
   "source": [
    "hull[:simplices]"
   ]
  },
  {
   "cell_type": "code",
   "execution_count": 37,
   "metadata": {
    "collapsed": false
   },
   "outputs": [
    {
     "data": {
      "text/plain": [
       "FixedSizeArrays.Vec{3,Float64}((0.0,0.0,0.0))"
      ]
     },
     "execution_count": 37,
     "metadata": {},
     "output_type": "execute_result"
    }
   ],
   "source": [
    "Vec{3, Float64}(0)"
   ]
  },
  {
   "cell_type": "code",
   "execution_count": 125,
   "metadata": {
    "collapsed": false
   },
   "outputs": [
    {
     "data": {
      "text/plain": [
       "FixedSizeArrays.FixedArray{Float64,1,Tuple{3}}"
      ]
     },
     "execution_count": 125,
     "metadata": {},
     "output_type": "execute_result"
    }
   ],
   "source": [
    "super(Vec{3, Float64})"
   ]
  },
  {
   "cell_type": "code",
   "execution_count": 127,
   "metadata": {
    "collapsed": false
   },
   "outputs": [
    {
     "ename": "LoadError",
     "evalue": "LoadError: StackOverflowError:\nwhile loading In[127], in expression starting on line 1",
     "output_type": "error",
     "traceback": [
      "LoadError: StackOverflowError:\nwhile loading In[127], in expression starting on line 1",
      "",
      " in + at /Users/rdeits/.julia/v0.4/FixedSizeArrays/src/ops.jl:64 (repeats 80000 times)"
     ]
    }
   ],
   "source": [
    "Vec(0.0, 1.0) + Point(0.0, 1.0)"
   ]
  },
  {
   "cell_type": "code",
   "execution_count": null,
   "metadata": {
    "collapsed": true
   },
   "outputs": [],
   "source": []
  }
 ],
 "metadata": {
  "kernelspec": {
   "display_name": "Julia 0.4.3",
   "language": "julia",
   "name": "julia-0.4"
  },
  "language_info": {
   "file_extension": ".jl",
   "mimetype": "application/julia",
   "name": "julia",
   "version": "0.4.3"
  }
 },
 "nbformat": 4,
 "nbformat_minor": 0
}
