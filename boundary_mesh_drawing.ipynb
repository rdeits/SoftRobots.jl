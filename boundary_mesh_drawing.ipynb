{
 "cells": [
  {
   "cell_type": "code",
   "execution_count": 1,
   "metadata": {
    "collapsed": false
   },
   "outputs": [
    {
     "name": "stderr",
     "output_type": "stream",
     "text": [
      "INFO: Recompiling stale cache file /home/rdeits/.julia/lib/v0.4/Meshing.ji for module Meshing.\n",
      "INFO: Recompiling stale cache file /home/rdeits/.julia/lib/v0.4/SoftRobots.ji for module SoftRobots.\n"
     ]
    }
   ],
   "source": [
    "using LCMGL\n",
    "using GeometryTypes\n",
    "import SoftRobots\n",
    "using Meshing"
   ]
  },
  {
   "cell_type": "code",
   "execution_count": 13,
   "metadata": {
    "collapsed": false
   },
   "outputs": [
    {
     "name": "stderr",
     "output_type": "stream",
     "text": [
      "WARNING: replacing module Drawing\n"
     ]
    }
   ],
   "source": [
    "module Drawing\n",
    "\n",
    "using LCMGL\n",
    "using GeometryTypes\n",
    "using Meshing\n",
    "\n",
    "function draw(lcmgl::LCMGLClient, mesh; face_color=[.7, .7, .2, .4])\n",
    "    color(lcmgl, face_color...)\n",
    "    begin_mode(lcmgl, LCMGL.TRIANGLES)\n",
    "    verts = vertices(mesh)\n",
    "    for face in faces(mesh)\n",
    "        for point in verts[face][end:-1:1]\n",
    "            vertex(lcmgl, point[1], point[2], point[3])\n",
    "        end\n",
    "    end\n",
    "    end_mode(lcmgl)\n",
    "    color(lcmgl, 0., 0., 0., 1.0)\n",
    "    begin_mode(lcmgl, LCMGL.LINES)\n",
    "    for face in faces(mesh)\n",
    "        for i = 1:length(verts[face])\n",
    "            vertex(lcmgl, verts[face][i]...)\n",
    "            j = i + 1\n",
    "            if i == length(verts[face])\n",
    "                j = 1\n",
    "            end\n",
    "            vertex(lcmgl, verts[face][j]...)\n",
    "        end\n",
    "    end\n",
    "    normals = decompose(Normal{3, Float64}, mesh)\n",
    "    for i = 1:length(verts)\n",
    "      vertex(lcmgl, verts[i]...)\n",
    "      vertex(lcmgl, (verts[i] + Point(normals[i]) * 0.05)...)\n",
    "    end\n",
    "    end_mode(lcmgl)\n",
    "    # switch_buffer(lcmgl)\n",
    "end\n",
    "\n",
    "\n",
    "function draw(lcmgl::LCMGLClient, robot, state)\n",
    "    body_mesh = SoftRobots.HomogenousMesh(state.positions, robot.faces)\n",
    "  draw(lcmgl, body_mesh)\n",
    "  switch_buffer(lcmgl)\n",
    "\n",
    "  LCMGLClient(\"barrier\") do lcmgl\n",
    "    center = mean(state.positions)\n",
    "    width = 1.5*(maximum(state.positions) - minimum(state.positions))\n",
    "\n",
    "        boundary_mesh = SoftRobots.HomogenousMesh(\n",
    "            SignedDistanceField(x -> SoftRobots.evaluate(state.barrier, x), \n",
    "        HyperRectangle(Vec(center), Vec(width)), 0.01), 0.0)\n",
    "        draw(lcmgl, boundary_mesh, face_color=[.8, .1, .1, .3])\n",
    "    switch_buffer(lcmgl)\n",
    "  end\n",
    "end\n",
    "\n",
    "end\n",
    "import Drawing"
   ]
  },
  {
   "cell_type": "code",
   "execution_count": 14,
   "metadata": {
    "collapsed": false
   },
   "outputs": [
    {
     "data": {
      "text/plain": [
       "8-element Array{GeometryTypes.Face{3,Int64,0},1}:\n",
       " Face(5,2,3)\n",
       " Face(1,2,5)\n",
       " Face(3,2,6)\n",
       " Face(6,2,1)\n",
       " Face(1,5,4)\n",
       " Face(4,5,3)\n",
       " Face(3,6,4)\n",
       " Face(4,6,1)"
      ]
     },
     "execution_count": 14,
     "metadata": {},
     "output_type": "execute_result"
    }
   ],
   "source": [
    "\n",
    "# robot, state = SoftRobots.tetrahedron()\n",
    "# points = state.positions\n",
    "points = Point{3, Float64}[[1;0;0], [0;1;0], [-1;0;0], [0;-1;0], [0;0;1], [0;0;-1]]\n",
    "for i = 1:length(points)\n",
    "    points[i] = 0.25 * points[i] + Point(0.5,0.5,0.5)\n",
    "end\n",
    "faces = SoftRobots.convex_hull(points)"
   ]
  },
  {
   "cell_type": "code",
   "execution_count": 15,
   "metadata": {
    "collapsed": false
   },
   "outputs": [
    {
     "data": {
      "text/plain": [
       "HomogenousMesh(\n",
       "    vertices: 6xFixedSizeArrays.Point{3,Float64},     faces: 8xGeometryTypes.Face{3,Int64,0}, )\n"
      ]
     },
     "execution_count": 15,
     "metadata": {},
     "output_type": "execute_result"
    }
   ],
   "source": [
    "body_mesh = HomogenousMesh(points, faces)"
   ]
  },
  {
   "cell_type": "code",
   "execution_count": 16,
   "metadata": {
    "collapsed": false
   },
   "outputs": [
    {
     "data": {
      "text/plain": [
       "6-element Array{GeometryTypes.Normal{3,Float64},1}:\n",
       " Normal(1.0,0.0,0.0) \n",
       " Normal(0.0,1.0,0.0) \n",
       " Normal(-1.0,0.0,0.0)\n",
       " Normal(0.0,-1.0,0.0)\n",
       " Normal(0.0,0.0,1.0) \n",
       " Normal(0.0,0.0,-1.0)"
      ]
     },
     "execution_count": 16,
     "metadata": {},
     "output_type": "execute_result"
    }
   ],
   "source": [
    "body_normals = decompose(Normal{3, Float64}, body_mesh)"
   ]
  },
  {
   "cell_type": "code",
   "execution_count": 17,
   "metadata": {
    "collapsed": false
   },
   "outputs": [],
   "source": [
    "LCMGLClient(\"body\") do lcmgl\n",
    "    Drawing.draw(lcmgl, body_mesh)\n",
    "    switch_buffer(lcmgl)\n",
    "end"
   ]
  },
  {
   "cell_type": "code",
   "execution_count": 18,
   "metadata": {
    "collapsed": false
   },
   "outputs": [
    {
     "data": {
      "text/plain": [
       "SpatialFields.HermiteRadialField{3,Float64}([1.0448154998549626,1.0448154998549695,1.0448154998549641,1.0448154998549692,1.0448154998549621,1.0448154998549641],6-elementArray{FixedSizeArrays.Point{3,Float64},1}:\n",
       " Point(0.17413591664249384,-2.4568415227160405e-17,8.85932549201422e-17)\n",
       " Point(3.509757877716747e-17,0.1741359166424947,-2.0066479623783028e-16)\n",
       " Point(-0.17413591664249406,4.3384838383612615e-17,-1.3615918177141855e-16)\n",
       " Point(-2.3256740821815874e-17,-0.17413591664249475,-1.3432770785901858e-16)\n",
       " Point(-1.2030777509140825e-16,7.563794697006869e-17,0.1741359166424939)\n",
       " Point(9.547221689661593e-17,9.9896194281274e-18,-0.17413591664249406)\n",
       ",6-elementArray{FixedSizeArrays.Point{3,Float64},1}:\n",
       " Point(0.75,0.5,0.5)\n",
       " Point(0.5,0.75,0.5)\n",
       " Point(0.25,0.5,0.5)\n",
       " Point(0.5,0.25,0.5)\n",
       " Point(0.5,0.5,0.75)\n",
       " Point(0.5,0.5,0.25)\n",
       ",SpatialFields.PhiXCubed())"
      ]
     },
     "execution_count": 18,
     "metadata": {},
     "output_type": "execute_result"
    }
   ],
   "source": [
    "barrier = SoftRobots.HermiteRadialField(points, body_normals)"
   ]
  },
  {
   "cell_type": "code",
   "execution_count": 66,
   "metadata": {
    "collapsed": false
   },
   "outputs": [],
   "source": [
    "center = Vec(mean(points))\n",
    "widths = Vec(1.25*(maximum(points) - minimum(points)))\n",
    "lb = Vec(center - 0.5*widths)\n",
    "ub = Vec(center + 0.5*widths)\n",
    "bounds = HyperRectangle(lb, widths)\n",
    "barrier_field = SignedDistanceField(x -> SoftRobots.evaluate(barrier, x), bounds, maximum(widths)/10);"
   ]
  },
  {
   "cell_type": "code",
   "execution_count": 67,
   "metadata": {
    "collapsed": false
   },
   "outputs": [
    {
     "data": {
      "text/plain": [
       "FixedSizeArrays.Vec{3,Float64}((0.1875,0.1875,0.1875))"
      ]
     },
     "execution_count": 67,
     "metadata": {},
     "output_type": "execute_result"
    }
   ],
   "source": [
    "lb"
   ]
  },
  {
   "cell_type": "code",
   "execution_count": 68,
   "metadata": {
    "collapsed": false
   },
   "outputs": [
    {
     "data": {
      "text/plain": [
       "FixedSizeArrays.Vec{3,Float64}((0.8125,0.8125,0.8125))"
      ]
     },
     "execution_count": 68,
     "metadata": {},
     "output_type": "execute_result"
    }
   ],
   "source": [
    "ub"
   ]
  },
  {
   "cell_type": "code",
   "execution_count": 69,
   "metadata": {
    "collapsed": false
   },
   "outputs": [
    {
     "data": {
      "text/plain": [
       "FixedSizeArrays.Vec{3,Float64}((0.8125,0.8125,0.8125))"
      ]
     },
     "execution_count": 69,
     "metadata": {},
     "output_type": "execute_result"
    }
   ],
   "source": [
    "maximum(bounds)"
   ]
  },
  {
   "cell_type": "code",
   "execution_count": 84,
   "metadata": {
    "collapsed": false
   },
   "outputs": [
    {
     "data": {
      "text/plain": [
       "transform (generic function with 1 method)"
      ]
     },
     "execution_count": 84,
     "metadata": {},
     "output_type": "execute_result"
    }
   ],
   "source": [
    "transform(barrier_inds) = Point((Vec{3, Float64}(barrier_inds) - 1) ./ (Vec(size(barrier_field)) - 1) .* (ub - lb) + lb)"
   ]
  },
  {
   "cell_type": "code",
   "execution_count": 86,
   "metadata": {
    "collapsed": false
   },
   "outputs": [
    {
     "name": "stdout",
     "output_type": "stream",
     "text": [
      "barrier_field[inds...] = -0.08468676308148321"
     ]
    },
    {
     "data": {
      "text/plain": [
       "-0.08468676308148321"
      ]
     },
     "execution_count": 86,
     "metadata": {},
     "output_type": "execute_result"
    },
    {
     "name": "stdout",
     "output_type": "stream",
     "text": [
      "\n",
      "SoftRobots.evaluate(barrier,transform(inds)) = -0.08468676308148321\n"
     ]
    }
   ],
   "source": [
    "inds = [7,7,7]\n",
    "@show barrier_field[inds...]\n",
    "# @show transform(inds)\n",
    "@show SoftRobots.evaluate(barrier, transform(inds))"
   ]
  },
  {
   "cell_type": "code",
   "execution_count": 82,
   "metadata": {
    "collapsed": false
   },
   "outputs": [
    {
     "data": {
      "text/plain": [
       "HomogenousMesh(\n",
       "    vertices: 854xFixedSizeArrays.Point{3,Float64},     faces: 1704xGeometryTypes.Face{3,Int64,0}, )\n"
      ]
     },
     "execution_count": 82,
     "metadata": {},
     "output_type": "execute_result"
    }
   ],
   "source": [
    "barrier_mesh = HomogenousMesh(barrier_field, 0.0)\n",
    "barrier_points = Point{3,Float64}[Vec(v-1) ./ (Vec(size(barrier_field))-1) .* (ub - lb) + lb for v in vertices(barrier_mesh)]\n",
    "barrier_mesh = HomogenousMesh(barrier_points, barrier_mesh.faces)"
   ]
  },
  {
   "cell_type": "code",
   "execution_count": 83,
   "metadata": {
    "collapsed": false
   },
   "outputs": [],
   "source": [
    "LCMGLClient(\"barrier\") do lcmgl\n",
    "    Drawing.draw(lcmgl, barrier_mesh; face_color=[.8,.2,.2,.3])\n",
    "    switch_buffer(lcmgl)\n",
    "end"
   ]
  },
  {
   "cell_type": "code",
   "execution_count": null,
   "metadata": {
    "collapsed": true
   },
   "outputs": [],
   "source": []
  }
 ],
 "metadata": {
  "kernelspec": {
   "display_name": "Julia 0.4.2",
   "language": "julia",
   "name": "julia-0.4"
  },
  "language_info": {
   "file_extension": ".jl",
   "mimetype": "application/julia",
   "name": "julia",
   "version": "0.4.2"
  }
 },
 "nbformat": 4,
 "nbformat_minor": 0
}
