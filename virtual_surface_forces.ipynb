{
 "cells": [
  {
   "cell_type": "code",
   "execution_count": 1,
   "metadata": {
    "collapsed": false
   },
   "outputs": [
    {
     "name": "stderr",
     "output_type": "stream",
     "text": [
      "WARNING: Method definition (::Type{SoftRobots.SoftRobot})(Array{SoftRobots.PointMass, 1}, Array{SoftRobots.DampedSpring, 1}, Array{GeometryTypes.Face{3, #T<:Any, #IndexOffset<:Any}, 1}) in module SoftRobots at /home/rdeits/locomotion/explorations/SoftRobots/packages/v0.5/SoftRobots/src/SoftRobots.jl:38 overwritten at /home/rdeits/locomotion/explorations/SoftRobots/packages/v0.5/SoftRobots/src/SoftRobots.jl:44.\n"
     ]
    }
   ],
   "source": [
    "import SoftRobots"
   ]
  },
  {
   "cell_type": "code",
   "execution_count": 2,
   "metadata": {
    "collapsed": false
   },
   "outputs": [
    {
     "name": "stderr",
     "output_type": "stream",
     "text": [
      "/usr/local/lib/python2.7/dist-packages/matplotlib/font_manager.py:273: UserWarning: Matplotlib is building the font cache using fc-list. This may take a moment.\n",
      "  warnings.warn('Matplotlib is building the font cache using fc-list. This may take a moment.')\n"
     ]
    }
   ],
   "source": [
    "using ForwardDiff\n",
    "import PyPlot\n",
    "# using NLopt\n",
    "# using Ipopt\n",
    "# using JuMP\n",
    "using FixedSizeArrays\n",
    "using ProfileView\n",
    "using GeometryTypes\n",
    "using LCMGL\n",
    "import ForwardDiff: value"
   ]
  },
  {
   "cell_type": "code",
   "execution_count": 3,
   "metadata": {
    "collapsed": false
   },
   "outputs": [
    {
     "name": "stderr",
     "output_type": "stream",
     "text": [
      "WARNING: replacing module SpatialFields\n",
      "WARNING: Method definition convert(Type{Array{#T<:Any, 2}}, Array{FixedSizeArrays.Point{#N<:Any, #T<:Any}, 1}) in module SpatialFields at /home/rdeits/locomotion/explorations/SoftRobots/packages/v0.5/SpatialFields/src/polynomial.jl:49 overwritten in module SpatialFields at /home/rdeits/locomotion/explorations/SoftRobots/packages/v0.5/SpatialFields/src/polynomial.jl:49.\n",
      "WARNING: replacing module SoftRobots\n",
      "WARNING: Method definition (::Type{SoftRobots.SoftRobot})(Array{SoftRobots.PointMass, 1}, Array{SoftRobots.DampedSpring, 1}, Array{GeometryTypes.Face{3, #T<:Any, #IndexOffset<:Any}, 1}) in module SoftRobots at /home/rdeits/locomotion/explorations/SoftRobots/packages/v0.5/SoftRobots/src/SoftRobots.jl:38 overwritten at /home/rdeits/locomotion/explorations/SoftRobots/packages/v0.5/SoftRobots/src/SoftRobots.jl:44.\n",
      "WARNING: Method definition convert(Type{Array{#T<:Any, 2}}, Array{FixedSizeArrays.Point{#N<:Any, #PointType<:Any}, 1}) in module SoftRobots at /home/rdeits/locomotion/explorations/SoftRobots/packages/v0.5/SoftRobots/src/drawing.jl:2 overwritten in module SoftRobots at /home/rdeits/locomotion/explorations/SoftRobots/packages/v0.5/SoftRobots/src/drawing.jl:2.\n",
      "WARNING: Method definition convert(Type{Array{#T<:Any, 2}}, Array{GeometryTypes.Face{#N<:Any, #FaceType<:Any, #Offset<:Any}, 1}) in module SoftRobots at /home/rdeits/locomotion/explorations/SoftRobots/packages/v0.5/SoftRobots/src/drawing.jl:12 overwritten in module SoftRobots at /home/rdeits/locomotion/explorations/SoftRobots/packages/v0.5/SoftRobots/src/drawing.jl:12.\n"
     ]
    }
   ],
   "source": [
    "reload(\"SpatialFields\")\n",
    "reload(\"SoftRobots\")"
   ]
  },
  {
   "cell_type": "code",
   "execution_count": 4,
   "metadata": {
    "collapsed": false
   },
   "outputs": [
    {
     "data": {
      "text/plain": [
       "draw (generic function with 1 method)"
      ]
     },
     "execution_count": 4,
     "metadata": {},
     "output_type": "execute_result"
    }
   ],
   "source": [
    "Base.convert{T}(::Type{SoftRobots.SoftRobotState{T}}, x::Vector{T}) = SoftRobots.SoftRobotState(SoftRobots.Point{3, T}[x[i:i+2]\n",
    "    for i in 1:3:(3*length(robot.nodes)-2)],\n",
    "    [SoftRobots.Point{3, T}(0) for i in 1:length(robot.nodes)])\n",
    "draw{T}(robot, x::Vector{T}) = SoftRobots.draw(robot, convert(SoftRobots.SoftRobotState{T}, x))"
   ]
  },
  {
   "cell_type": "code",
   "execution_count": 5,
   "metadata": {
    "collapsed": false
   },
   "outputs": [
    {
     "data": {
      "text/plain": [
       "tower (generic function with 1 method)"
      ]
     },
     "execution_count": 5,
     "metadata": {},
     "output_type": "execute_result"
    }
   ],
   "source": [
    "function tower()\n",
    "    k = 10.\n",
    "    b = 4.0\n",
    "    l = 1.0\n",
    "    m = 0.1\n",
    "    nodes = SoftRobots.PointMass[]\n",
    "    positions = SoftRobots.Point{3, Float64}[]\n",
    "    \n",
    "    for z = [1;2]\n",
    "        x = 0\n",
    "        y = 0\n",
    "        push!(nodes, SoftRobots.PointMass(m))\n",
    "        push!(positions, SoftRobots.Point{3, Float64}(x, y, z))\n",
    "    end\n",
    "    \n",
    "    for z = 0:1:3\n",
    "        bulge = 1 - 0.1*(z - 1.5)^2\n",
    "        for x = -0.5:0.5\n",
    "            for y = -0.5:0.5\n",
    "                push!(nodes, SoftRobots.PointMass(m))\n",
    "                push!(positions, SoftRobots.Point{3, Float64}(x*bulge, y*bulge, z))\n",
    "            end\n",
    "        end\n",
    "    end\n",
    "    for z in [-0.1; 3.1]\n",
    "        for x in [0.0]\n",
    "            for y in [0.0]\n",
    "#     for (x,y,z) in Any[(0,0,-0.1), (0,0,3.1)]\n",
    "                push!(nodes, SoftRobots.PointMass(m))\n",
    "                push!(positions, SoftRobots.Point{3, Float64}(x, y, z))\n",
    "            end\n",
    "        end\n",
    "    end\n",
    "    \n",
    "\n",
    "    num_nodes = length(nodes)\n",
    "    edges = SoftRobots.DampedSpring[]\n",
    "    for i = 1:num_nodes\n",
    "        for j = (i+1):num_nodes\n",
    "            rest_length = norm(positions[i] - positions[j])\n",
    "            if rest_length < 1.5\n",
    "                push!(edges, SoftRobots.DampedSpring(i, j, k, b, rest_length))\n",
    "            end\n",
    "        end\n",
    "    end\n",
    "    faces = SoftRobots.convex_hull(positions)\n",
    "    robot = SoftRobots.SoftRobot(nodes, edges, faces)\n",
    "    velocities = [SoftRobots.Point{3, Float64}(0) for n in robot.nodes]\n",
    "    state = SoftRobots.SoftRobotState(positions, velocities)\n",
    "    robot, state\n",
    "end\n",
    "    \n",
    "        "
   ]
  },
  {
   "cell_type": "code",
   "execution_count": 6,
   "metadata": {
    "collapsed": false
   },
   "outputs": [],
   "source": [
    "robot, state = tower()\n",
    "\n",
    "x0 = vec(destructure(state.positions))\n",
    "x = copy(x0);"
   ]
  },
  {
   "cell_type": "code",
   "execution_count": 11,
   "metadata": {
    "collapsed": false,
    "scrolled": false
   },
   "outputs": [],
   "source": [
    "draw(robot, x)\n",
    "\n",
    "LCMGLClient(\"normals\") do lcmgl\n",
    "    color(lcmgl, 0,0,0)\n",
    "\n",
    "    state = convert(SoftRobots.SoftRobotState{Float64}, x)\n",
    "    for i = 1:length(state.positions)\n",
    "        sphere(lcmgl, convert(Vector, state.positions[i]), 0.02, 10, 10)\n",
    "    end\n",
    "    begin_mode(lcmgl, LCMGL.LINES)\n",
    "    for edge in robot.edges\n",
    "        vertex(lcmgl, state.positions[edge.parent]...)\n",
    "        vertex(lcmgl, state.positions[edge.child]...)\n",
    "    end\n",
    "    end_mode(lcmgl)\n",
    "    switch_buffer(lcmgl)\n",
    "end"
   ]
  },
  {
   "cell_type": "code",
   "execution_count": 33,
   "metadata": {
    "collapsed": false
   },
   "outputs": [
    {
     "name": "stderr",
     "output_type": "stream",
     "text": [
      "WARNING: Method definition potential_energy_fixed_base(Any, SoftRobots.SoftRobotState{#T<:Any}) in module Main at In[14]:2 overwritten at In[33]:2.\n"
     ]
    },
    {
     "data": {
      "text/plain": [
       "(::#97) (generic function with 1 method)"
      ]
     },
     "execution_count": 33,
     "metadata": {},
     "output_type": "execute_result"
    }
   ],
   "source": [
    "function potential_energy_fixed_base{T}(robot, state::SoftRobots.SoftRobotState{T})\n",
    "    energy = zero(T)\n",
    "    for edge in robot.edges\n",
    "        energy += 0.5 * edge.stiffness * \n",
    "         (norm(state.positions[edge.parent] - state.positions[edge.child]) - \n",
    "          edge.rest_length)^2\n",
    "    end\n",
    "    for i = 1:2\n",
    "        energy += 0.5 * 1e4 * sum((state.positions[i] - Point(0.0, 0.0, i)).^2)\n",
    "    end\n",
    "    \n",
    "    energy\n",
    "end\n",
    "\n",
    "\n",
    "energy_cost = (x, point) -> begin\n",
    "    state = convert(SoftRobots.SoftRobotState{eltype(x)}, x)\n",
    "    energy = potential_energy_fixed_base(robot, state)\n",
    "    SoftRobots.update_barrier!(robot, state)\n",
    "    v = SoftRobots.evaluate(state.barrier, point)\n",
    "    if any(isnan, v)\n",
    "        @show v\n",
    "        @show point\n",
    "    end\n",
    "    if v < 0\n",
    "        energy += 0.5 * 400 * v^2\n",
    "    end\n",
    "    energy\n",
    "end"
   ]
  },
  {
   "cell_type": "code",
   "execution_count": 36,
   "metadata": {
    "collapsed": false
   },
   "outputs": [],
   "source": [
    "point = [-0.4; 0; 1.5]\n",
    "\n",
    "x = copy(x0);\n",
    "draw(robot, x)\n",
    "\n",
    "LCMGLClient(\"point\") do lcmgl\n",
    "    color(lcmgl, 0,0,1)\n",
    "    sphere(lcmgl, point, 0.05, 20, 20)\n",
    "    switch_buffer(lcmgl)\n",
    "end"
   ]
  },
  {
   "cell_type": "code",
   "execution_count": 37,
   "metadata": {
    "collapsed": true
   },
   "outputs": [],
   "source": [
    "\n",
    "LCMGLClient(\"normals\") do lcmgl\n",
    "    color(lcmgl, 0,0,0)\n",
    "\n",
    "    state = convert(SoftRobots.SoftRobotState{Float64}, map(value, x))\n",
    "    for i = 1:length(state.positions)\n",
    "        sphere(lcmgl, convert(Vector, state.positions[i]), 0.02, 10, 10)\n",
    "    end\n",
    "    begin_mode(lcmgl, LCMGL.LINES)\n",
    "    for edge in robot.edges\n",
    "        vertex(lcmgl, state.positions[edge.parent]...)\n",
    "        vertex(lcmgl, state.positions[edge.child]...)\n",
    "    end\n",
    "    end_mode(lcmgl)\n",
    "    \n",
    "    color(lcmgl, 0, 1, 0)\n",
    "    for i = 1:2\n",
    "        sphere(lcmgl, convert(Vector, state.positions[i]), 0.05, 10, 10)\n",
    "    end\n",
    "    \n",
    "    switch_buffer(lcmgl)\n",
    "end"
   ]
  },
  {
   "cell_type": "code",
   "execution_count": 38,
   "metadata": {
    "collapsed": false,
    "scrolled": false
   },
   "outputs": [
    {
     "data": {
      "image/png": "[encoded data removed]",
      "text/plain": [
       "PyPlot.Figure(PyObject <matplotlib.figure.Figure object at 0x7f5549b45210>)"
      ]
     },
     "metadata": {},
     "output_type": "display_data"
    },
    {
     "name": "stdout",
     "output_type": "stream",
     "text": [
      "  4.241761 seconds (26.86 M allocations: 947.386 MB, 4.73% gc time)\n"
     ]
    },
    {
     "data": {
      "text/plain": [
       "1-element Array{Any,1}:\n",
       " PyObject <matplotlib.lines.Line2D object at 0x7f55356c1b50>"
      ]
     },
     "execution_count": 38,
     "metadata": {},
     "output_type": "execute_result"
    }
   ],
   "source": [
    "f = x -> energy_cost(x, point)\n",
    "\n",
    "cost_and_gradient = x -> begin\n",
    "    out = ForwardDiff.GradientResult(x)\n",
    "    ForwardDiff.gradient!(out, f, x)\n",
    "    ForwardDiff.value(out), ForwardDiff.gradient(out)\n",
    "end\n",
    "\n",
    "energies = []\n",
    "alpha = 0.98\n",
    "# Profile.clear()\n",
    "@time for i = 1:50\n",
    "    ci, gi = cost_and_gradient(x)\n",
    "    if any(isnan, gi)\n",
    "        @show gi\n",
    "        error(\"nan in gradient\")\n",
    "    end\n",
    "    step = -ci ./ gi\n",
    "    step = sign(step) .* min.(0.01, abs.(gi))\n",
    "    x += alpha^i .* step\n",
    "#     x -= step * gi\n",
    "    draw(robot, map(value, x))\n",
    "\n",
    "    LCMGLClient(\"normals\") do lcmgl\n",
    "        color(lcmgl, 0,0,0)\n",
    "    \n",
    "        state = convert(SoftRobots.SoftRobotState{Float64}, map(value, x))\n",
    "        for i = 1:length(state.positions)\n",
    "            sphere(lcmgl, convert(Vector, state.positions[i]), 0.02, 10, 10)\n",
    "        end\n",
    "        begin_mode(lcmgl, LCMGL.LINES)\n",
    "        for edge in robot.edges\n",
    "            vertex(lcmgl, state.positions[edge.parent]...)\n",
    "            vertex(lcmgl, state.positions[edge.child]...)\n",
    "        end\n",
    "        end_mode(lcmgl)\n",
    "        \n",
    "        color(lcmgl, 0, 1, 0)\n",
    "        for i = 1:2\n",
    "            sphere(lcmgl, convert(Vector, state.positions[i]), 0.05, 10, 10)\n",
    "        end\n",
    "        switch_buffer(lcmgl)\n",
    "    end\n",
    "    push!(energies, ci)\n",
    "end\n",
    "# ProfileView.view()\n",
    "PyPlot.plot(energies)\n"
   ]
  },
  {
   "cell_type": "code",
   "execution_count": null,
   "metadata": {
    "collapsed": true
   },
   "outputs": [],
   "source": []
  }
 ],
 "metadata": {
  "kernelspec": {
   "display_name": "Julia 0.5.0-rc3",
   "language": "julia",
   "name": "julia-0.5"
  },
  "language_info": {
   "file_extension": ".jl",
   "mimetype": "application/julia",
   "name": "julia",
   "version": "0.5.0"
  }
 },
 "nbformat": 4,
 "nbformat_minor": 0
}
