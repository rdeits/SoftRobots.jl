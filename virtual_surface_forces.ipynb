{
 "cells": [
  {
   "cell_type": "code",
   "execution_count": 1,
   "metadata": {
    "collapsed": false
   },
   "outputs": [],
   "source": [
    "import SoftRobots"
   ]
  },
  {
   "cell_type": "code",
   "execution_count": 24,
   "metadata": {
    "collapsed": false
   },
   "outputs": [],
   "source": [
    "using ForwardDiff\n",
    "import PyPlot\n",
    "# using NLopt\n",
    "# using Ipopt\n",
    "# using JuMP\n",
    "using FixedSizeArrays\n",
    "using ProfileView\n",
    "using GeometryTypes\n",
    "using LCMGL\n",
    "import ForwardDiff: value"
   ]
  },
  {
   "cell_type": "code",
   "execution_count": 3,
   "metadata": {
    "collapsed": false
   },
   "outputs": [
    {
     "name": "stderr",
     "output_type": "stream",
     "text": [
      "WARNING: replacing module SpatialFields\n",
      "WARNING: Method definition convert(Type{Array{#T<:Any, 2}}, Array{FixedSizeArrays.Point{#N<:Any, #T<:Any}, 1}) in module SpatialFields at /Users/rdeits/.julia/v0.4/SpatialFields/src/polynomial.jl:48 overwritten in module SpatialFields at /Users/rdeits/.julia/v0.4/SpatialFields/src/polynomial.jl:48.\n",
      "WARNING: replacing module SoftRobots\n",
      "WARNING: Method definition convert(Type{Array{#T<:Any, 2}}, Array{FixedSizeArrays.Point{#N<:Any, #PointType<:Any}, 1}) in module SoftRobots at /Users/rdeits/.julia/v0.4/SoftRobots/src/drawing.jl:2 overwritten in module SoftRobots at /Users/rdeits/.julia/v0.4/SoftRobots/src/drawing.jl:2.\n",
      "WARNING: Method definition convert(Type{Array{#T<:Any, 2}}, Array{GeometryTypes.Face{#N<:Any, #FaceType<:Any, #Offset<:Any}, 1}) in module SoftRobots at /Users/rdeits/.julia/v0.4/SoftRobots/src/drawing.jl:12 overwritten in module SoftRobots at /Users/rdeits/.julia/v0.4/SoftRobots/src/drawing.jl:12.\n"
     ]
    }
   ],
   "source": [
    "reload(\"SpatialFields\")\n",
    "reload(\"SoftRobots\")"
   ]
  },
  {
   "cell_type": "code",
   "execution_count": 3,
   "metadata": {
    "collapsed": false
   },
   "outputs": [
    {
     "data": {
      "text/plain": [
       "value (generic function with 5 methods)"
      ]
     },
     "execution_count": 3,
     "metadata": {},
     "output_type": "execute_result"
    }
   ],
   "source": [
    "Base.convert{T}(::Type{SoftRobots.SoftRobotState{T}}, x::Vector{T}) = SoftRobots.SoftRobotState(SoftRobots.Point{3, T}[x[i:i+2]\n",
    "    for i in 1:3:(3*length(robot.nodes)-2)],\n",
    "    [SoftRobots.Point{3, T}(0) for i in 1:length(robot.nodes)])\n",
    "draw{T}(robot, x::Vector{T}) = SoftRobots.draw(robot, convert(SoftRobots.SoftRobotState{T}, x))\n",
    "value(x::Real) = x"
   ]
  },
  {
   "cell_type": "code",
   "execution_count": 18,
   "metadata": {
    "collapsed": false
   },
   "outputs": [
    {
     "data": {
      "text/plain": [
       "tower (generic function with 1 method)"
      ]
     },
     "execution_count": 18,
     "metadata": {},
     "output_type": "execute_result"
    }
   ],
   "source": [
    "function tower()\n",
    "    k = 10.\n",
    "    b = 4.0\n",
    "    l = 1.0\n",
    "    m = 0.1\n",
    "    nodes = SoftRobots.PointMass[]\n",
    "    positions = SoftRobots.Point{3, Float64}[]\n",
    "    \n",
    "    for z = [1;2]\n",
    "        x = 0\n",
    "        y = 0\n",
    "        push!(nodes, SoftRobots.PointMass(m))\n",
    "        push!(positions, SoftRobots.Point{3, Float64}(x, y, z))\n",
    "    end\n",
    "    \n",
    "    for z = 0:1:3\n",
    "        bulge = 1 - 0.1*(z - 1.5)^2\n",
    "        for x = -0.5:0.5\n",
    "            for y = -0.5:0.5\n",
    "                push!(nodes, SoftRobots.PointMass(m))\n",
    "                push!(positions, SoftRobots.Point{3, Float64}(x*bulge, y*bulge, z))\n",
    "            end\n",
    "        end\n",
    "    end\n",
    "    for z in [-0.1; 3.1]\n",
    "        for x in [0.0]\n",
    "            for y in [0.0]\n",
    "#     for (x,y,z) in Any[(0,0,-0.1), (0,0,3.1)]\n",
    "                push!(nodes, SoftRobots.PointMass(m))\n",
    "                push!(positions, SoftRobots.Point{3, Float64}(x, y, z))\n",
    "            end\n",
    "        end\n",
    "    end\n",
    "    \n",
    "\n",
    "    num_nodes = length(nodes)\n",
    "    edges = SoftRobots.DampedSpring[]\n",
    "    for i = 1:num_nodes\n",
    "        for j = (i+1):num_nodes\n",
    "            rest_length = norm(positions[i] - positions[j])\n",
    "            if rest_length < 1.5\n",
    "                push!(edges, SoftRobots.DampedSpring(i, j, k, b, rest_length))\n",
    "            end\n",
    "        end\n",
    "    end\n",
    "    faces = SoftRobots.convex_hull(positions)\n",
    "    robot = SoftRobots.SoftRobot(nodes, edges, faces)\n",
    "    velocities = [SoftRobots.Point{3, Float64}(0) for n in robot.nodes]\n",
    "    state = SoftRobots.SoftRobotState(positions, velocities)\n",
    "    robot, state\n",
    "end\n",
    "    \n",
    "        "
   ]
  },
  {
   "cell_type": "code",
   "execution_count": 33,
   "metadata": {
    "collapsed": false
   },
   "outputs": [],
   "source": [
    "robot, state = tower()\n",
    "\n",
    "x0 = collect(destructure(state.positions))\n",
    "x = copy(x0);"
   ]
  },
  {
   "cell_type": "code",
   "execution_count": 34,
   "metadata": {
    "collapsed": false,
    "scrolled": false
   },
   "outputs": [],
   "source": [
    "draw(robot, x)\n",
    "\n",
    "LCMGLClient(\"normals\") do lcmgl\n",
    "    color(lcmgl, 0,0,0)\n",
    "\n",
    "    state = convert(SoftRobots.SoftRobotState{Float64}, x)\n",
    "    for i = 1:length(state.positions)\n",
    "        sphere(lcmgl, convert(Vector, state.positions[i]), 0.02, 10, 10)\n",
    "    end\n",
    "    begin_mode(lcmgl, LCMGL.LINES)\n",
    "    for edge in robot.edges\n",
    "        vertex(lcmgl, state.positions[edge.parent]...)\n",
    "        vertex(lcmgl, state.positions[edge.child]...)\n",
    "    end\n",
    "    end_mode(lcmgl)\n",
    "    switch_buffer(lcmgl)\n",
    "end"
   ]
  },
  {
   "cell_type": "code",
   "execution_count": 35,
   "metadata": {
    "collapsed": false
   },
   "outputs": [
    {
     "data": {
      "text/plain": [
       "cost (generic function with 1 method)"
      ]
     },
     "execution_count": 35,
     "metadata": {},
     "output_type": "execute_result"
    }
   ],
   "source": [
    "point = [-0.5; 0; 2.5]\n",
    "\n",
    "function potential_energy_fixed_base{T}(robot, state::SoftRobots.SoftRobotState{T})\n",
    "    energy = zero(T)\n",
    "    for edge in robot.edges\n",
    "        energy += 0.5 * edge.stiffness * \n",
    "         (norm(state.positions[edge.parent] - state.positions[edge.child]) - \n",
    "          edge.rest_length)^2\n",
    "    end\n",
    "    for i = 1:2\n",
    "        energy += 0.5 * 1000 * sum((state.positions[i] - Point(0.0, 0.0, i)).^2)\n",
    "    end\n",
    "    \n",
    "    energy\n",
    "end\n",
    "\n",
    "\n",
    "function cost{T}(x::Vector{T})\n",
    "    state = convert(SoftRobots.SoftRobotState{T}, x)\n",
    "    energy = potential_energy_fixed_base(robot, state)\n",
    "    SoftRobots.update_barrier!(robot, state)\n",
    "    v = SoftRobots.evaluate(state.barrier, point)\n",
    "    if any(isnan, v)\n",
    "        @show v\n",
    "        @show point\n",
    "    end\n",
    "    if v < 0\n",
    "        energy += 0.5 * 200 * v^2\n",
    "    end\n",
    "    energy\n",
    "end"
   ]
  },
  {
   "cell_type": "code",
   "execution_count": 36,
   "metadata": {
    "collapsed": false,
    "scrolled": false
   },
   "outputs": [
    {
     "name": "stdout",
     "output_type": "stream",
     "text": [
      "  "
     ]
    },
    {
     "data": {
      "image/png": "[encoded data removed]",
      "text/plain": [
       "PyPlot.Figure(PyObject <matplotlib.figure.Figure object at 0x3214a2190>)"
      ]
     },
     "metadata": {},
     "output_type": "display_data"
    },
    {
     "data": {
      "text/plain": [
       "1-element Array{Any,1}:\n",
       " PyObject <matplotlib.lines.Line2D object at 0x30f034cd0>"
      ]
     },
     "execution_count": 36,
     "metadata": {},
     "output_type": "execute_result"
    },
    {
     "name": "stdout",
     "output_type": "stream",
     "text": [
      "4.530275 seconds (16.34 M allocations: 770.829 MB, 3.33% gc time)\n"
     ]
    }
   ],
   "source": [
    "\n",
    "\n",
    "f = cost\n",
    "g = ForwardDiff.gradient(f, ForwardDiff.AllResults)\n",
    "energies = []\n",
    "step = 1e-3\n",
    "# Profile.clear()\n",
    "@time for i = 1:20\n",
    "    gi, results = g(x)\n",
    "    if any(isnan, gi)\n",
    "        @show gi\n",
    "        error(\"nan in gradient\")\n",
    "    end\n",
    "    x -= step * gi\n",
    "    draw(robot, map(value, x))\n",
    "\n",
    "    LCMGLClient(\"normals\") do lcmgl\n",
    "        color(lcmgl, 0,0,0)\n",
    "    \n",
    "        state = convert(SoftRobots.SoftRobotState{Float64}, map(value, x))\n",
    "#         mesh = HomogenousMesh(state.positions, robot.faces)\n",
    "#         normals = decompose(GeometryTypes.Normal{3, Float64}, mesh)\n",
    "#         begin_mode(lcmgl, LCMGL.LINES)\n",
    "#         for i = 1:length(state.positions)\n",
    "#             vertex(lcmgl, state.positions[i]...)\n",
    "#             vertex(lcmgl, (state.positions[i] + Point(normals[i]))...)\n",
    "#         end\n",
    "#         end_mode(lcmgl)\n",
    "        for i = 1:length(state.positions)\n",
    "            sphere(lcmgl, convert(Vector, state.positions[i]), 0.02, 10, 10)\n",
    "        end\n",
    "        begin_mode(lcmgl, LCMGL.LINES)\n",
    "        for edge in robot.edges\n",
    "            vertex(lcmgl, state.positions[edge.parent]...)\n",
    "            vertex(lcmgl, state.positions[edge.child]...)\n",
    "        end\n",
    "        end_mode(lcmgl)\n",
    "            \n",
    "        color(lcmgl, 0,0,1)\n",
    "        sphere(lcmgl, point, 0.05, 20, 20)\n",
    "        switch_buffer(lcmgl)\n",
    "    end\n",
    "    push!(energies, value(results))\n",
    "end\n",
    "# ProfileView.view()\n",
    "PyPlot.plot(energies)\n"
   ]
  },
  {
   "cell_type": "code",
   "execution_count": null,
   "metadata": {
    "collapsed": true
   },
   "outputs": [],
   "source": []
  }
 ],
 "metadata": {
  "kernelspec": {
   "display_name": "Julia 0.4.5",
   "language": "julia",
   "name": "julia-0.4"
  },
  "language_info": {
   "file_extension": ".jl",
   "mimetype": "application/julia",
   "name": "julia",
   "version": "0.4.5"
  }
 },
 "nbformat": 4,
 "nbformat_minor": 0
}
